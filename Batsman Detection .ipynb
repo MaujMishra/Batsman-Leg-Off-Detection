{
 "cells": [
  {
   "cell_type": "code",
   "execution_count": 2,
   "id": "48c77fbc",
   "metadata": {},
   "outputs": [],
   "source": [
    "import cv2\n",
    "import os"
   ]
  },
  {
   "cell_type": "code",
   "execution_count": 6,
   "id": "245b0d6e",
   "metadata": {},
   "outputs": [],
   "source": [
    "frames = os.listdir(\"../Dataset/Batsman Detection Frames\")"
   ]
  },
  {
   "cell_type": "code",
   "execution_count": 10,
   "id": "ac523a53",
   "metadata": {},
   "outputs": [],
   "source": [
    "for i in frames:\n",
    "    path = \"../Dataset/Batsman Detection Frames/\" + i\n",
    "    \n",
    "    img = cv2.imread(path)\n",
    "    img = cv2.cvtColor(img, cv2.COLOR_BGR2GRAY)\n",
    "    cv2.imwrite(path, img)"
   ]
  },
  {
   "cell_type": "code",
   "execution_count": 11,
   "id": "063c3abd",
   "metadata": {},
   "outputs": [
    {
     "data": {
      "text/plain": [
       "-0.0"
      ]
     },
     "execution_count": 11,
     "metadata": {},
     "output_type": "execute_result"
    }
   ],
   "source": [
    "max(-0.0, 0.0)"
   ]
  },
  {
   "cell_type": "code",
   "execution_count": 12,
   "id": "b93a6922",
   "metadata": {},
   "outputs": [
    {
     "data": {
      "text/plain": [
       "-0.0"
      ]
     },
     "execution_count": 12,
     "metadata": {},
     "output_type": "execute_result"
    }
   ],
   "source": [
    "-0.0\n"
   ]
  },
  {
   "cell_type": "code",
   "execution_count": null,
   "id": "6ba0f4cd",
   "metadata": {},
   "outputs": [],
   "source": []
  }
 ],
 "metadata": {
  "kernelspec": {
   "display_name": "Python 3",
   "language": "python",
   "name": "python3"
  },
  "language_info": {
   "codemirror_mode": {
    "name": "ipython",
    "version": 3
   },
   "file_extension": ".py",
   "mimetype": "text/x-python",
   "name": "python",
   "nbconvert_exporter": "python",
   "pygments_lexer": "ipython3",
   "version": "3.8.8"
  }
 },
 "nbformat": 4,
 "nbformat_minor": 5
}
