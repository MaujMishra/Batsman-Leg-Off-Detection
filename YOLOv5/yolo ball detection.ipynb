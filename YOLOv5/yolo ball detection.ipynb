{
 "cells": [
  {
   "cell_type": "code",
   "execution_count": 4,
   "id": "b3295143",
   "metadata": {},
   "outputs": [],
   "source": [
    "\"C:\\Users\\Assus\\Cricket NLP\\Cricket NLP Version 1.1\\Dataset\\AghhkPjJpVQ\\203_207_Trim.mp4\""
   ]
  },
  {
   "cell_type": "code",
   "execution_count": 5,
   "id": "378a4dba",
   "metadata": {},
   "outputs": [
    {
     "data": {
      "text/plain": [
       "'pa'"
      ]
     },
     "execution_count": 5,
     "metadata": {},
     "output_type": "execute_result"
    }
   ],
   "source": [
    "C:\\Users\\Assus\\Cricket NLP\\Cricket NLP Version 1.1\\Code\\"
   ]
  },
  {
   "cell_type": "code",
   "execution_count": 9,
   "id": "8960d052",
   "metadata": {},
   "outputs": [
    {
     "name": "stderr",
     "output_type": "stream",
     "text": [
      "\u001b[34m\u001b[1mdetect: \u001b[0mweights=['./ball_detection_kaggle.pt'], source=../../Dataset/Test Frame, data=yolov5\\data\\coco128.yaml, imgsz=[640, 640], conf_thres=0.3, iou_thres=0.45, max_det=1000, device=, view_img=False, save_txt=False, save_conf=False, save_crop=False, nosave=False, classes=None, agnostic_nms=False, augment=False, visualize=False, update=False, project=yolov5\\runs\\detect, name=exp, exist_ok=False, line_thickness=3, hide_labels=False, hide_conf=False, half=False, dnn=False, vid_stride=1\n",
      "fatal: cannot change to 'C:\\Users\\Assus\\Cricket': No such file or directory\n",
      "YOLOv5  2022-10-9 Python-3.8.8 torch-1.11.0+cpu CPU\n",
      "\n",
      "Fusing layers... \n",
      "YOLOv5s summary: 157 layers, 7012822 parameters, 0 gradients, 15.8 GFLOPs\n",
      "image 1/44 C:\\Users\\Assus\\Cricket NLP\\Cricket NLP Version 1.1\\Dataset\\Test Frame\\1.jpg: 352x640 (no detections), 147.0ms\n",
      "image 2/44 C:\\Users\\Assus\\Cricket NLP\\Cricket NLP Version 1.1\\Dataset\\Test Frame\\10.jpg: 352x640 (no detections), 152.0ms\n",
      "image 3/44 C:\\Users\\Assus\\Cricket NLP\\Cricket NLP Version 1.1\\Dataset\\Test Frame\\11.jpg: 352x640 (no detections), 348.0ms\n",
      "image 4/44 C:\\Users\\Assus\\Cricket NLP\\Cricket NLP Version 1.1\\Dataset\\Test Frame\\12.jpg: 352x640 (no detections), 159.0ms\n",
      "image 5/44 C:\\Users\\Assus\\Cricket NLP\\Cricket NLP Version 1.1\\Dataset\\Test Frame\\13.jpg: 352x640 (no detections), 144.0ms\n",
      "image 6/44 C:\\Users\\Assus\\Cricket NLP\\Cricket NLP Version 1.1\\Dataset\\Test Frame\\14.jpg: 352x640 (no detections), 117.0ms\n",
      "image 7/44 C:\\Users\\Assus\\Cricket NLP\\Cricket NLP Version 1.1\\Dataset\\Test Frame\\15.jpg: 352x640 (no detections), 135.0ms\n",
      "image 8/44 C:\\Users\\Assus\\Cricket NLP\\Cricket NLP Version 1.1\\Dataset\\Test Frame\\16.jpg: 352x640 (no detections), 130.0ms\n",
      "image 9/44 C:\\Users\\Assus\\Cricket NLP\\Cricket NLP Version 1.1\\Dataset\\Test Frame\\17.jpg: 352x640 (no detections), 137.0ms\n",
      "image 10/44 C:\\Users\\Assus\\Cricket NLP\\Cricket NLP Version 1.1\\Dataset\\Test Frame\\18.jpg: 352x640 (no detections), 140.0ms\n",
      "image 11/44 C:\\Users\\Assus\\Cricket NLP\\Cricket NLP Version 1.1\\Dataset\\Test Frame\\19.jpg: 352x640 (no detections), 139.0ms\n",
      "image 12/44 C:\\Users\\Assus\\Cricket NLP\\Cricket NLP Version 1.1\\Dataset\\Test Frame\\2.jpg: 352x640 (no detections), 129.0ms\n",
      "image 13/44 C:\\Users\\Assus\\Cricket NLP\\Cricket NLP Version 1.1\\Dataset\\Test Frame\\20.jpg: 352x640 (no detections), 143.0ms\n",
      "image 14/44 C:\\Users\\Assus\\Cricket NLP\\Cricket NLP Version 1.1\\Dataset\\Test Frame\\21.jpg: 352x640 (no detections), 109.0ms\n",
      "image 15/44 C:\\Users\\Assus\\Cricket NLP\\Cricket NLP Version 1.1\\Dataset\\Test Frame\\22.jpg: 352x640 (no detections), 140.0ms\n",
      "image 16/44 C:\\Users\\Assus\\Cricket NLP\\Cricket NLP Version 1.1\\Dataset\\Test Frame\\23.jpg: 352x640 (no detections), 149.0ms\n",
      "image 17/44 C:\\Users\\Assus\\Cricket NLP\\Cricket NLP Version 1.1\\Dataset\\Test Frame\\24.jpg: 352x640 (no detections), 143.0ms\n",
      "image 18/44 C:\\Users\\Assus\\Cricket NLP\\Cricket NLP Version 1.1\\Dataset\\Test Frame\\25.jpg: 352x640 (no detections), 132.0ms\n",
      "image 19/44 C:\\Users\\Assus\\Cricket NLP\\Cricket NLP Version 1.1\\Dataset\\Test Frame\\26.jpg: 352x640 (no detections), 133.0ms\n",
      "image 20/44 C:\\Users\\Assus\\Cricket NLP\\Cricket NLP Version 1.1\\Dataset\\Test Frame\\27.jpg: 352x640 (no detections), 133.0ms\n",
      "image 21/44 C:\\Users\\Assus\\Cricket NLP\\Cricket NLP Version 1.1\\Dataset\\Test Frame\\28.jpg: 352x640 1 0, 143.0ms\n",
      "image 22/44 C:\\Users\\Assus\\Cricket NLP\\Cricket NLP Version 1.1\\Dataset\\Test Frame\\29.jpg: 352x640 1 0, 182.0ms\n",
      "image 23/44 C:\\Users\\Assus\\Cricket NLP\\Cricket NLP Version 1.1\\Dataset\\Test Frame\\3.jpg: 352x640 (no detections), 140.0ms\n",
      "image 24/44 C:\\Users\\Assus\\Cricket NLP\\Cricket NLP Version 1.1\\Dataset\\Test Frame\\30.jpg: 352x640 (no detections), 140.0ms\n",
      "image 25/44 C:\\Users\\Assus\\Cricket NLP\\Cricket NLP Version 1.1\\Dataset\\Test Frame\\31.jpg: 352x640 (no detections), 124.0ms\n",
      "image 26/44 C:\\Users\\Assus\\Cricket NLP\\Cricket NLP Version 1.1\\Dataset\\Test Frame\\32.jpg: 352x640 (no detections), 122.0ms\n",
      "image 27/44 C:\\Users\\Assus\\Cricket NLP\\Cricket NLP Version 1.1\\Dataset\\Test Frame\\33.jpg: 352x640 1 0, 133.0ms\n",
      "image 28/44 C:\\Users\\Assus\\Cricket NLP\\Cricket NLP Version 1.1\\Dataset\\Test Frame\\34.jpg: 352x640 1 0, 135.0ms\n",
      "image 29/44 C:\\Users\\Assus\\Cricket NLP\\Cricket NLP Version 1.1\\Dataset\\Test Frame\\35.jpg: 352x640 1 0, 130.0ms\n",
      "image 30/44 C:\\Users\\Assus\\Cricket NLP\\Cricket NLP Version 1.1\\Dataset\\Test Frame\\36.jpg: 352x640 1 0, 114.0ms\n",
      "image 31/44 C:\\Users\\Assus\\Cricket NLP\\Cricket NLP Version 1.1\\Dataset\\Test Frame\\37.jpg: 352x640 (no detections), 139.0ms\n",
      "image 32/44 C:\\Users\\Assus\\Cricket NLP\\Cricket NLP Version 1.1\\Dataset\\Test Frame\\38.jpg: 352x640 (no detections), 120.0ms\n",
      "image 33/44 C:\\Users\\Assus\\Cricket NLP\\Cricket NLP Version 1.1\\Dataset\\Test Frame\\39.jpg: 352x640 (no detections), 122.0ms\n",
      "image 34/44 C:\\Users\\Assus\\Cricket NLP\\Cricket NLP Version 1.1\\Dataset\\Test Frame\\4.jpg: 352x640 (no detections), 151.0ms\n",
      "image 35/44 C:\\Users\\Assus\\Cricket NLP\\Cricket NLP Version 1.1\\Dataset\\Test Frame\\40.jpg: 352x640 (no detections), 126.0ms\n",
      "image 36/44 C:\\Users\\Assus\\Cricket NLP\\Cricket NLP Version 1.1\\Dataset\\Test Frame\\41.jpg: 352x640 1 0, 130.0ms\n",
      "image 37/44 C:\\Users\\Assus\\Cricket NLP\\Cricket NLP Version 1.1\\Dataset\\Test Frame\\42.jpg: 352x640 1 0, 117.0ms\n",
      "image 38/44 C:\\Users\\Assus\\Cricket NLP\\Cricket NLP Version 1.1\\Dataset\\Test Frame\\43.jpg: 352x640 (no detections), 116.0ms\n",
      "image 39/44 C:\\Users\\Assus\\Cricket NLP\\Cricket NLP Version 1.1\\Dataset\\Test Frame\\44.jpg: 352x640 1 0, 130.0ms\n",
      "image 40/44 C:\\Users\\Assus\\Cricket NLP\\Cricket NLP Version 1.1\\Dataset\\Test Frame\\5.jpg: 352x640 (no detections), 136.0ms\n",
      "image 41/44 C:\\Users\\Assus\\Cricket NLP\\Cricket NLP Version 1.1\\Dataset\\Test Frame\\6.jpg: 352x640 (no detections), 124.0ms\n",
      "image 42/44 C:\\Users\\Assus\\Cricket NLP\\Cricket NLP Version 1.1\\Dataset\\Test Frame\\7.jpg: 352x640 (no detections), 158.0ms\n",
      "image 43/44 C:\\Users\\Assus\\Cricket NLP\\Cricket NLP Version 1.1\\Dataset\\Test Frame\\8.jpg: 352x640 (no detections), 130.0ms\n",
      "image 44/44 C:\\Users\\Assus\\Cricket NLP\\Cricket NLP Version 1.1\\Dataset\\Test Frame\\9.jpg: 352x640 (no detections), 136.0ms\n",
      "Speed: 0.8ms pre-process, 139.9ms inference, 0.4ms NMS per image at shape (1, 3, 640, 640)\n",
      "Results saved to \u001b[1myolov5\\runs\\detect\\exp27\u001b[0m\n"
     ]
    }
   ],
   "source": [
    "!python \"./yolov5/detect.py\" --conf 0.3 --weights \"./ball_detection_kaggle.pt\" --source \"../../Dataset/Test Frame\""
   ]
  },
  {
   "cell_type": "code",
   "execution_count": null,
   "id": "5d02077b",
   "metadata": {},
   "outputs": [],
   "source": []
  }
 ],
 "metadata": {
  "kernelspec": {
   "display_name": "Python 3",
   "language": "python",
   "name": "python3"
  },
  "language_info": {
   "codemirror_mode": {
    "name": "ipython",
    "version": 3
   },
   "file_extension": ".py",
   "mimetype": "text/x-python",
   "name": "python",
   "nbconvert_exporter": "python",
   "pygments_lexer": "ipython3",
   "version": "3.8.8"
  }
 },
 "nbformat": 4,
 "nbformat_minor": 5
}
