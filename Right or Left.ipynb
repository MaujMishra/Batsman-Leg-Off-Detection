{
 "cells": [
  {
   "cell_type": "markdown",
   "id": "2095667e",
   "metadata": {},
   "source": [
    "# Dataset Preparation"
   ]
  },
  {
   "cell_type": "code",
   "execution_count": 2,
   "id": "fc486630",
   "metadata": {},
   "outputs": [],
   "source": [
    "import cv2\n",
    "import os\n",
    "import random\n",
    "import shutil\n",
    "import pandas as pd\n",
    "import numpy as np"
   ]
  },
  {
   "cell_type": "code",
   "execution_count": 7,
   "id": "9f971f70",
   "metadata": {},
   "outputs": [],
   "source": [
    "dataset = \"../Dataset/\""
   ]
  },
  {
   "cell_type": "code",
   "execution_count": 6,
   "id": "7216fc0d",
   "metadata": {},
   "outputs": [],
   "source": [
    "right_images = os.listdir(dataset + \"Batsman Style Data/right\")\n",
    "left_images = os.listdir(dataset + \"Batsman Style Data/left\")"
   ]
  },
  {
   "cell_type": "code",
   "execution_count": 10,
   "id": "95878b73",
   "metadata": {},
   "outputs": [],
   "source": [
    "os.mkdir(dataset + \"Left or Right Data/\" + \"right\")"
   ]
  },
  {
   "cell_type": "code",
   "execution_count": 19,
   "id": "a61c28c4",
   "metadata": {},
   "outputs": [],
   "source": [
    "for image in left_images:\n",
    "    image_path = dataset + \"Batsman Style Data/left/\" + image\n",
    "    \n",
    "    img = cv2.imread(image_path)\n",
    "    \n",
    "    grayscale = cv2.cvtColor(img, cv2.COLOR_BGR2GRAY)\n",
    "    \n",
    "    cv2.imwrite(dataset + \"Left or Right Data/\" + \"left/\" + image, grayscale)"
   ]
  },
  {
   "cell_type": "code",
   "execution_count": 39,
   "id": "b113711e",
   "metadata": {},
   "outputs": [],
   "source": [
    "count = 0\n",
    "rand_lst = []\n",
    "while count<100:\n",
    "    rand = random.randint(0, len(left_images)-1)\n",
    "    if rand in rand_lst:\n",
    "        continue\n",
    "    rand_lst.append(rand)\n",
    "    left_img = left_images[rand]\n",
    "    right_img = right_images[rand]\n",
    "    \n",
    "    left_source = dataset + \"Left or Right Data/train/left/\" + left_img\n",
    "    right_source = dataset + \"Left or Right Data/train/right/\" + right_img\n",
    "    \n",
    "    left_dest = dataset + \"Left or Right Data/val/left/\"\n",
    "    right_dest = dataset + \"Left or Right Data/val/right/\"\n",
    "    \n",
    "    shutil.move(left_source, left_dest)\n",
    "    shutil.move(right_source, right_dest)\n",
    "    count += 1"
   ]
  },
  {
   "cell_type": "code",
   "execution_count": 13,
   "id": "65807011",
   "metadata": {},
   "outputs": [],
   "source": [
    "count_res = {}\n",
    "\n",
    "right_train = os.listdir(dataset + \"Left or Right Data/train/right\")\n",
    "left_train = os.listdir(dataset + \"Left or Right Data/train/left\")"
   ]
  },
  {
   "cell_type": "code",
   "execution_count": 6,
   "id": "ded61531",
   "metadata": {},
   "outputs": [],
   "source": [
    "train_images = right_train + left_train"
   ]
  },
  {
   "cell_type": "code",
   "execution_count": 21,
   "id": "a292f954",
   "metadata": {},
   "outputs": [],
   "source": [
    "for img in left_train:\n",
    "    cv_im = cv2.imread(dataset + \"Left or Right Data/train/left/\" + img)\n",
    "    shape = str(cv_im.shape)\n",
    "    \n",
    "    try:\n",
    "        count_res[shape] = count_res[shape] + 1\n",
    "    except:\n",
    "        count_res[shape] = 1"
   ]
  },
  {
   "cell_type": "code",
   "execution_count": 22,
   "id": "32fcc9e6",
   "metadata": {},
   "outputs": [
    {
     "data": {
      "text/plain": [
       "{'(197, 88, 3)': 9,\n",
       " '(180, 76, 3)': 9,\n",
       " '(175, 86, 3)': 20,\n",
       " '(170, 84, 3)': 11,\n",
       " '(158, 95, 3)': 7,\n",
       " '(147, 80, 3)': 16,\n",
       " '(191, 91, 3)': 13,\n",
       " '(134, 66, 3)': 6,\n",
       " '(168, 82, 3)': 16,\n",
       " '(159, 78, 3)': 17,\n",
       " '(166, 95, 3)': 20,\n",
       " '(161, 93, 3)': 10,\n",
       " '(144, 63, 3)': 13,\n",
       " '(136, 85, 3)': 17,\n",
       " '(150, 95, 3)': 20,\n",
       " '(156, 90, 3)': 36,\n",
       " '(146, 81, 3)': 24,\n",
       " '(164, 89, 3)': 18,\n",
       " '(194, 96, 3)': 11,\n",
       " '(150, 78, 3)': 9,\n",
       " '(164, 88, 3)': 9,\n",
       " '(117, 75, 3)': 10,\n",
       " '(113, 75, 3)': 12,\n",
       " '(131, 74, 3)': 14,\n",
       " '(124, 89, 3)': 51,\n",
       " '(130, 69, 3)': 23,\n",
       " '(123, 69, 3)': 8,\n",
       " '(167, 120, 3)': 8}"
      ]
     },
     "execution_count": 22,
     "metadata": {},
     "output_type": "execute_result"
    }
   ],
   "source": [
    "count_res"
   ]
  },
  {
   "cell_type": "code",
   "execution_count": 27,
   "id": "97bf5fae",
   "metadata": {},
   "outputs": [
    {
     "name": "stdout",
     "output_type": "stream",
     "text": [
      "0\n",
      "1\n",
      "2\n",
      "3\n",
      "4\n",
      "5\n",
      "6\n",
      "7\n",
      "8\n",
      "9\n",
      "10\n",
      "11\n",
      "12\n",
      "13\n",
      "14\n",
      "15\n",
      "16\n",
      "17\n",
      "18\n",
      "19\n",
      "20\n",
      "21\n",
      "22\n",
      "23\n",
      "24\n",
      "25\n",
      "26\n",
      "27\n",
      "28\n",
      "29\n",
      "30\n",
      "31\n",
      "32\n",
      "33\n",
      "34\n",
      "35\n",
      "36\n",
      "37\n",
      "38\n",
      "39\n",
      "40\n",
      "41\n",
      "42\n",
      "43\n",
      "44\n",
      "45\n",
      "46\n",
      "47\n",
      "48\n",
      "49\n",
      "50\n",
      "51\n",
      "52\n",
      "53\n",
      "54\n",
      "55\n",
      "56\n",
      "57\n",
      "58\n",
      "59\n",
      "60\n",
      "61\n",
      "62\n",
      "63\n",
      "64\n",
      "65\n",
      "66\n",
      "67\n",
      "68\n",
      "69\n",
      "70\n",
      "71\n",
      "72\n",
      "73\n",
      "74\n",
      "75\n",
      "76\n",
      "77\n",
      "78\n",
      "79\n",
      "80\n",
      "81\n",
      "82\n",
      "83\n",
      "84\n",
      "85\n",
      "86\n",
      "87\n",
      "88\n",
      "89\n",
      "90\n",
      "91\n",
      "92\n",
      "93\n",
      "94\n",
      "95\n",
      "96\n",
      "97\n",
      "98\n",
      "99\n",
      "100\n",
      "101\n",
      "102\n",
      "103\n",
      "104\n",
      "105\n",
      "106\n",
      "107\n",
      "108\n",
      "109\n",
      "110\n",
      "111\n",
      "112\n",
      "113\n",
      "114\n",
      "115\n",
      "116\n",
      "117\n",
      "118\n",
      "119\n",
      "120\n",
      "121\n",
      "122\n",
      "123\n",
      "124\n",
      "125\n",
      "126\n",
      "127\n",
      "128\n",
      "129\n",
      "130\n",
      "131\n",
      "132\n",
      "133\n",
      "134\n",
      "135\n",
      "136\n",
      "137\n",
      "138\n",
      "139\n",
      "140\n",
      "141\n",
      "142\n",
      "143\n",
      "144\n",
      "145\n",
      "146\n",
      "147\n",
      "148\n",
      "149\n",
      "150\n",
      "151\n",
      "152\n",
      "153\n",
      "154\n",
      "155\n",
      "156\n",
      "157\n",
      "158\n",
      "159\n",
      "160\n",
      "161\n",
      "162\n",
      "163\n",
      "164\n",
      "165\n",
      "166\n",
      "167\n",
      "168\n",
      "169\n",
      "170\n",
      "171\n",
      "172\n",
      "173\n",
      "174\n",
      "175\n",
      "176\n",
      "177\n",
      "178\n",
      "179\n",
      "180\n",
      "181\n",
      "182\n",
      "183\n",
      "184\n",
      "185\n",
      "186\n",
      "187\n",
      "188\n",
      "189\n",
      "190\n",
      "191\n",
      "192\n",
      "193\n",
      "194\n",
      "195\n",
      "196\n",
      "197\n",
      "198\n",
      "199\n",
      "200\n",
      "201\n",
      "202\n",
      "203\n",
      "204\n",
      "205\n",
      "206\n",
      "207\n",
      "208\n",
      "209\n",
      "210\n",
      "211\n",
      "212\n",
      "213\n",
      "214\n",
      "215\n",
      "216\n",
      "217\n",
      "218\n",
      "219\n",
      "220\n",
      "221\n",
      "222\n",
      "223\n",
      "224\n",
      "225\n",
      "226\n",
      "227\n",
      "228\n",
      "229\n",
      "230\n",
      "231\n",
      "232\n",
      "233\n",
      "234\n",
      "235\n",
      "236\n",
      "237\n",
      "238\n",
      "239\n",
      "240\n",
      "241\n",
      "242\n",
      "243\n",
      "244\n",
      "245\n",
      "246\n",
      "247\n",
      "248\n",
      "249\n",
      "250\n",
      "251\n",
      "252\n",
      "253\n",
      "254\n",
      "255\n",
      "256\n",
      "257\n",
      "258\n",
      "259\n",
      "260\n",
      "261\n",
      "262\n",
      "263\n",
      "264\n",
      "265\n",
      "266\n",
      "267\n",
      "268\n",
      "269\n",
      "270\n",
      "271\n",
      "272\n",
      "273\n",
      "274\n",
      "275\n",
      "276\n",
      "277\n",
      "278\n",
      "279\n",
      "280\n",
      "281\n",
      "282\n",
      "283\n",
      "284\n",
      "285\n",
      "286\n",
      "287\n",
      "288\n",
      "289\n",
      "290\n",
      "291\n",
      "292\n",
      "293\n",
      "294\n",
      "295\n",
      "296\n",
      "297\n",
      "298\n",
      "299\n",
      "300\n",
      "301\n",
      "302\n",
      "303\n",
      "304\n",
      "305\n",
      "306\n",
      "307\n",
      "308\n",
      "309\n",
      "310\n",
      "311\n",
      "312\n",
      "313\n",
      "314\n",
      "315\n",
      "316\n",
      "317\n",
      "318\n",
      "319\n",
      "320\n",
      "321\n",
      "322\n",
      "323\n",
      "324\n",
      "325\n",
      "326\n",
      "327\n",
      "328\n",
      "329\n",
      "330\n",
      "331\n",
      "332\n",
      "333\n",
      "334\n",
      "335\n",
      "336\n",
      "337\n",
      "338\n",
      "339\n",
      "340\n",
      "341\n",
      "342\n",
      "343\n",
      "344\n",
      "345\n",
      "346\n",
      "347\n",
      "348\n",
      "349\n",
      "350\n",
      "351\n",
      "352\n",
      "353\n",
      "354\n",
      "355\n",
      "356\n",
      "357\n",
      "358\n",
      "359\n",
      "360\n",
      "361\n",
      "362\n",
      "363\n",
      "364\n",
      "365\n",
      "366\n",
      "367\n",
      "368\n",
      "369\n",
      "370\n",
      "371\n",
      "372\n",
      "373\n",
      "374\n",
      "375\n",
      "376\n",
      "377\n",
      "378\n",
      "379\n",
      "380\n",
      "381\n",
      "382\n",
      "383\n",
      "384\n",
      "385\n",
      "386\n",
      "387\n",
      "388\n",
      "389\n",
      "390\n",
      "391\n",
      "392\n",
      "393\n",
      "394\n",
      "395\n",
      "396\n",
      "397\n",
      "398\n",
      "399\n",
      "400\n",
      "401\n",
      "402\n",
      "403\n",
      "404\n",
      "405\n",
      "406\n",
      "407\n",
      "408\n",
      "409\n",
      "410\n",
      "411\n",
      "412\n",
      "413\n",
      "414\n",
      "415\n",
      "416\n",
      "417\n",
      "418\n",
      "419\n",
      "420\n",
      "421\n",
      "422\n",
      "423\n",
      "424\n",
      "425\n",
      "426\n",
      "427\n",
      "428\n",
      "429\n",
      "430\n",
      "431\n",
      "432\n",
      "433\n",
      "434\n",
      "435\n",
      "436\n",
      "0\n",
      "1\n",
      "2\n",
      "3\n",
      "4\n",
      "5\n",
      "6\n",
      "7\n",
      "8\n",
      "9\n",
      "10\n",
      "11\n",
      "12\n",
      "13\n",
      "14\n",
      "15\n",
      "16\n",
      "17\n",
      "18\n",
      "19\n",
      "20\n",
      "21\n",
      "22\n",
      "23\n",
      "24\n",
      "25\n",
      "26\n",
      "27\n",
      "28\n",
      "29\n",
      "30\n",
      "31\n",
      "32\n",
      "33\n",
      "34\n",
      "35\n",
      "36\n",
      "37\n",
      "38\n",
      "39\n",
      "0\n",
      "1\n",
      "2\n",
      "3\n",
      "4\n",
      "5\n",
      "6\n",
      "7\n",
      "8\n",
      "9\n",
      "10\n",
      "11\n",
      "12\n",
      "13\n",
      "14\n",
      "15\n",
      "16\n",
      "17\n",
      "18\n",
      "19\n",
      "20\n",
      "21\n",
      "22\n",
      "23\n",
      "24\n",
      "25\n",
      "26\n",
      "27\n",
      "28\n",
      "29\n",
      "30\n",
      "31\n",
      "32\n",
      "33\n",
      "34\n",
      "35\n",
      "36\n",
      "37\n",
      "38\n",
      "39\n",
      "40\n",
      "41\n",
      "42\n",
      "43\n",
      "44\n",
      "45\n",
      "46\n",
      "47\n",
      "48\n",
      "49\n",
      "50\n",
      "51\n",
      "52\n",
      "53\n",
      "54\n",
      "55\n",
      "56\n",
      "57\n",
      "58\n",
      "59\n",
      "60\n",
      "61\n",
      "62\n",
      "63\n",
      "64\n",
      "65\n",
      "66\n",
      "67\n",
      "68\n",
      "69\n",
      "70\n",
      "71\n",
      "72\n",
      "73\n",
      "74\n",
      "75\n",
      "76\n",
      "77\n",
      "78\n",
      "79\n",
      "80\n",
      "81\n",
      "82\n",
      "83\n",
      "84\n",
      "85\n",
      "86\n",
      "87\n",
      "88\n",
      "89\n",
      "90\n",
      "91\n",
      "92\n",
      "93\n",
      "94\n",
      "95\n",
      "96\n",
      "97\n",
      "98\n",
      "99\n",
      "100\n",
      "101\n",
      "102\n",
      "103\n",
      "104\n",
      "105\n",
      "106\n",
      "107\n",
      "108\n",
      "109\n",
      "110\n",
      "111\n",
      "112\n",
      "113\n",
      "114\n",
      "115\n",
      "116\n",
      "117\n",
      "118\n",
      "119\n",
      "120\n",
      "121\n",
      "122\n",
      "123\n",
      "124\n",
      "125\n",
      "126\n",
      "127\n",
      "128\n",
      "129\n",
      "130\n",
      "131\n",
      "132\n",
      "133\n",
      "134\n",
      "135\n",
      "136\n",
      "137\n",
      "138\n",
      "139\n",
      "140\n",
      "141\n",
      "142\n",
      "143\n",
      "144\n",
      "145\n",
      "146\n",
      "147\n",
      "148\n",
      "149\n",
      "150\n",
      "151\n",
      "152\n",
      "153\n",
      "154\n",
      "155\n",
      "156\n",
      "157\n",
      "158\n",
      "159\n"
     ]
    }
   ],
   "source": [
    "data_lst = [\"train\", \"test\", \"val\"]\n",
    "\n",
    "for data in data_lst:\n",
    "    source_images_l = os.listdir(dataset + \"Left or Right Data/Raw/\" + data + \"/left\")\n",
    "    source_images_r = os.listdir(dataset + \"Left or Right Data/Raw/\" + data + \"/right\")\n",
    "    count = 0\n",
    "    \n",
    "    for img in source_images_l:\n",
    "        print(count)\n",
    "        count += 1\n",
    "        cv_im = cv2.imread(dataset + \"Left or Right Data/Raw/\" + data + \"/left/\" + img)\n",
    "        cv_resized = cv2.resize(cv_im, (124, 89))\n",
    "        cv2.imwrite(dataset + \"Left or Right Data/Resized/\" + data + \"/left/\" + img, cv_resized)\n",
    "    \n",
    "    for img in source_images_r:\n",
    "        print(count)\n",
    "        count += 1\n",
    "        cv_im = cv2.imread(dataset + \"Left or Right Data/Raw/\" + data + \"/right/\" + img)\n",
    "        cv_resized = cv2.resize(cv_im, (124, 89))\n",
    "        cv2.imwrite(dataset + \"Left or Right Data/Resized/\" + data + \"/right/\" + img, cv_resized)\n",
    "    "
   ]
  },
  {
   "cell_type": "markdown",
   "id": "cc62d277",
   "metadata": {},
   "source": [
    "# Model Training"
   ]
  },
  {
   "cell_type": "code",
   "execution_count": 35,
   "id": "7d142a58",
   "metadata": {},
   "outputs": [
    {
     "data": {
      "text/plain": [
       "{0: 'Left', 1: 'Right'}"
      ]
     },
     "execution_count": 35,
     "metadata": {},
     "output_type": "execute_result"
    }
   ],
   "source": [
    "{0: \"Left\", 1:\"Right\"}"
   ]
  },
  {
   "cell_type": "code",
   "execution_count": 45,
   "id": "e7b50aec",
   "metadata": {},
   "outputs": [],
   "source": [
    "df_train = pd.DataFrame(columns=[\"Input\", \"Output\"])\n",
    "df_test = pd.DataFrame(columns=[\"Input\", \"Output\"])\n",
    "df_cv = pd.DataFrame(columns=[\"Input\", \"Output\"])"
   ]
  },
  {
   "cell_type": "code",
   "execution_count": 46,
   "id": "15ba021a",
   "metadata": {},
   "outputs": [],
   "source": [
    "data_lst = [\"train\", \"test\", \"val\"]\n",
    "\n",
    "for data in data_lst:\n",
    "    source_images_l = os.listdir(dataset + \"Left or Right Data/Resized/\" + data + \"/left\")\n",
    "    source_images_r = os.listdir(dataset + \"Left or Right Data/Resized/\" + data + \"/right\")\n",
    "    \n",
    "    for img in source_images_l:\n",
    "        cv_im = cv2.imread(dataset + \"Left or Right Data/Resized/\" + data + \"/left/\" + img)\n",
    "        df_dict = {\"Input\": [cv_im], \"Output\": [0]}\n",
    "        df_data = pd.DataFrame(df_dict)\n",
    "        \n",
    "        if data == \"train\":\n",
    "            df_train = pd.concat([df_train, df_data], axis=0).reset_index(drop=True)\n",
    "        if data == \"test\":\n",
    "            df_test = pd.concat([df_test, df_data], axis=0).reset_index(drop=True)\n",
    "        if data == \"val\":\n",
    "            df_cv = pd.concat([df_cv, df_data], axis=0).reset_index(drop=True)\n",
    "\n",
    "        \n",
    "    for img in source_images_r:\n",
    "        cv_im = cv2.imread(dataset + \"Left or Right Data/Resized/\" + data + \"/right/\" + img)\n",
    "        df_dict = {\"Input\": [cv_im], \"Output\": [1]}\n",
    "        df_data = pd.DataFrame(df_dict)\n",
    "\n",
    "        \n",
    "        if data == \"train\":\n",
    "            df_train = pd.concat([df_train, df_data], axis=0).reset_index(drop=True)\n",
    "        if data == \"test\":\n",
    "            df_test = pd.concat([df_test, df_data], axis=0).reset_index(drop=True)\n",
    "        if data == \"val\":\n",
    "            df_cv = pd.concat([df_cv, df_data], axis=0).reset_index(drop=True)\n",
    "      "
   ]
  },
  {
   "cell_type": "code",
   "execution_count": 47,
   "id": "741754c3",
   "metadata": {},
   "outputs": [],
   "source": [
    "train_lst = list(df_train[\"Input\"].values)"
   ]
  },
  {
   "cell_type": "code",
   "execution_count": 50,
   "id": "8ad94379",
   "metadata": {},
   "outputs": [
    {
     "data": {
      "text/plain": [
       "(89, 124, 3)"
      ]
     },
     "execution_count": 50,
     "metadata": {},
     "output_type": "execute_result"
    }
   ],
   "source": [
    "train_lst[200].shape"
   ]
  },
  {
   "cell_type": "code",
   "execution_count": 1,
   "id": "db4685ac",
   "metadata": {},
   "outputs": [],
   "source": [
    "import keras\n",
    "from keras.models import Sequential \n",
    "from keras.layers import Dense, Dropout, Flatten \n",
    "from keras.layers import Conv2D, MaxPooling2D\n",
    "import tensorflow as tf\n",
    "from keras.datasets import mnist\n"
   ]
  },
  {
   "cell_type": "code",
   "execution_count": 109,
   "id": "5b118918",
   "metadata": {},
   "outputs": [
    {
     "name": "stdout",
     "output_type": "stream",
     "text": [
      "Downloading data from https://storage.googleapis.com/tensorflow/tf-keras-datasets/mnist.npz\n",
      "11493376/11490434 [==============================] - 2s 0us/step\n",
      "11501568/11490434 [==============================] - 2s 0us/step\n"
     ]
    }
   ],
   "source": []
  },
  {
   "cell_type": "code",
   "execution_count": 119,
   "id": "fe82514a",
   "metadata": {},
   "outputs": [
    {
     "data": {
      "text/plain": [
       "numpy.ndarray"
      ]
     },
     "execution_count": 119,
     "metadata": {},
     "output_type": "execute_result"
    }
   ],
   "source": [
    "type(X_train[0])"
   ]
  },
  {
   "cell_type": "code",
   "execution_count": 203,
   "id": "67d71e99",
   "metadata": {},
   "outputs": [],
   "source": [
    "model = Sequential([\n",
    "    Conv2D(20, kernel_size=3, activation='relu', input_shape=(89, 124, 3)),\n",
    "    MaxPooling2D(pool_size=2),\n",
    "    Conv2D(10, kernel_size=3, activation='relu'),\n",
    "    Conv2D(5, kernel_size=3, activation='relu'),\n",
    "    Flatten(),\n",
    "    Dense(10, activation='relu'),\n",
    "    Dense(5, activation='relu'),\n",
    "    Dense(2, activation='softmax')\n",
    "])"
   ]
  },
  {
   "cell_type": "code",
   "execution_count": 204,
   "id": "125a5a48",
   "metadata": {},
   "outputs": [],
   "source": [
    "model.compile(optimizer='adam', loss='sparse_categorical_crossentropy', metrics=['accuracy'])"
   ]
  },
  {
   "cell_type": "code",
   "execution_count": 156,
   "id": "8115a23b",
   "metadata": {},
   "outputs": [],
   "source": [
    "X_train = df_train[\"Input\"].values\n",
    "y_train = df_train[\"Output\"].values\n",
    "X_cv = df_cv[\"Input\"].values\n",
    "y_cv = df_cv[\"Output\"].values\n",
    "X_test = df_test[\"Input\"].values\n",
    "y_test = df_test[\"Output\"].values"
   ]
  },
  {
   "cell_type": "code",
   "execution_count": 157,
   "id": "ee8605f1",
   "metadata": {},
   "outputs": [],
   "source": [
    "X_train_np = []\n",
    "X_cv_np = []\n",
    "X_test_np = []"
   ]
  },
  {
   "cell_type": "code",
   "execution_count": 158,
   "id": "14bcd43d",
   "metadata": {},
   "outputs": [],
   "source": [
    "for i in range(len(X_train)):\n",
    "    X_train_np.append(X_train[i])"
   ]
  },
  {
   "cell_type": "code",
   "execution_count": 159,
   "id": "137798fb",
   "metadata": {},
   "outputs": [],
   "source": [
    "for i in range(len(X_cv)):\n",
    "    X_cv_np.append(X_cv[i])"
   ]
  },
  {
   "cell_type": "code",
   "execution_count": 160,
   "id": "afd2e149",
   "metadata": {},
   "outputs": [],
   "source": [
    "for i in range(len(X_test)):\n",
    "    X_test_np.append(X_test[i])"
   ]
  },
  {
   "cell_type": "code",
   "execution_count": 161,
   "id": "26a88169",
   "metadata": {},
   "outputs": [
    {
     "data": {
      "text/plain": [
       "(437, 89, 124, 3)"
      ]
     },
     "execution_count": 161,
     "metadata": {},
     "output_type": "execute_result"
    }
   ],
   "source": [
    "X_train = np.array(X_train_np)\n",
    "X_train.shape"
   ]
  },
  {
   "cell_type": "code",
   "execution_count": 162,
   "id": "833cf117",
   "metadata": {},
   "outputs": [
    {
     "data": {
      "text/plain": [
       "(160, 89, 124, 3)"
      ]
     },
     "execution_count": 162,
     "metadata": {},
     "output_type": "execute_result"
    }
   ],
   "source": [
    "X_cv = np.array(X_cv_np)\n",
    "X_cv.shape"
   ]
  },
  {
   "cell_type": "code",
   "execution_count": 163,
   "id": "8f630d2f",
   "metadata": {},
   "outputs": [
    {
     "data": {
      "text/plain": [
       "(40, 89, 124, 3)"
      ]
     },
     "execution_count": 163,
     "metadata": {},
     "output_type": "execute_result"
    }
   ],
   "source": [
    "X_test = np.array(X_test_np)\n",
    "X_test.shape"
   ]
  },
  {
   "cell_type": "code",
   "execution_count": 166,
   "id": "dbd1c3a9",
   "metadata": {},
   "outputs": [],
   "source": [
    "X_train = tf.convert_to_tensor(X_train)\n",
    "X_cv = tf.convert_to_tensor(X_cv)\n",
    "X_test = tf.convert_to_tensor(X_test)"
   ]
  },
  {
   "cell_type": "code",
   "execution_count": 176,
   "id": "291680d4",
   "metadata": {},
   "outputs": [],
   "source": [
    "y_train = y_train.astype(\"float32\")\n",
    "y_cv = y_cv.astype(\"float32\")\n",
    "y_test = y_test.astype(\"float32\")"
   ]
  },
  {
   "cell_type": "code",
   "execution_count": 199,
   "id": "d76c25e6",
   "metadata": {},
   "outputs": [],
   "source": [
    "(X_train_m, y_train_m), (X_test_m, y_test_m) = mnist.load_data()\n"
   ]
  },
  {
   "cell_type": "code",
   "execution_count": 205,
   "id": "70841372",
   "metadata": {},
   "outputs": [
    {
     "name": "stdout",
     "output_type": "stream",
     "text": [
      "Epoch 1/100\n",
      "22/22 [==============================] - 2s 96ms/step - loss: 3.5452 - accuracy: 0.7277 - val_loss: 0.2128 - val_accuracy: 0.9438\n",
      "Epoch 2/100\n",
      "22/22 [==============================] - 2s 87ms/step - loss: 0.1557 - accuracy: 0.9451 - val_loss: 0.1165 - val_accuracy: 0.9625\n",
      "Epoch 3/100\n",
      "22/22 [==============================] - 2s 82ms/step - loss: 0.0541 - accuracy: 0.9794 - val_loss: 0.1425 - val_accuracy: 0.9688\n",
      "Epoch 4/100\n",
      "22/22 [==============================] - 2s 82ms/step - loss: 0.0278 - accuracy: 0.9908 - val_loss: 0.0624 - val_accuracy: 0.9750\n",
      "Epoch 5/100\n",
      "22/22 [==============================] - 2s 82ms/step - loss: 0.0078 - accuracy: 0.9977 - val_loss: 0.0528 - val_accuracy: 0.9937\n",
      "Epoch 6/100\n",
      "22/22 [==============================] - 2s 88ms/step - loss: 0.0367 - accuracy: 0.9954 - val_loss: 0.0494 - val_accuracy: 0.9937\n",
      "Epoch 7/100\n",
      "22/22 [==============================] - 2s 83ms/step - loss: 0.0022 - accuracy: 1.0000 - val_loss: 0.0505 - val_accuracy: 0.9937\n",
      "Epoch 8/100\n",
      "22/22 [==============================] - 2s 82ms/step - loss: 0.0016 - accuracy: 1.0000 - val_loss: 0.0569 - val_accuracy: 0.9937\n",
      "Epoch 9/100\n",
      "22/22 [==============================] - 2s 84ms/step - loss: 4.4399e-04 - accuracy: 1.0000 - val_loss: 0.0665 - val_accuracy: 0.9875\n",
      "Epoch 10/100\n",
      "22/22 [==============================] - 2s 85ms/step - loss: 2.0967e-04 - accuracy: 1.0000 - val_loss: 0.0717 - val_accuracy: 0.9875\n",
      "Epoch 11/100\n",
      "22/22 [==============================] - 2s 84ms/step - loss: 1.1007e-04 - accuracy: 1.0000 - val_loss: 0.0755 - val_accuracy: 0.9875\n",
      "Epoch 12/100\n",
      "22/22 [==============================] - 2s 82ms/step - loss: 7.0734e-05 - accuracy: 1.0000 - val_loss: 0.0791 - val_accuracy: 0.9937\n",
      "Epoch 13/100\n",
      "22/22 [==============================] - 2s 85ms/step - loss: 4.9933e-04 - accuracy: 1.0000 - val_loss: 0.0484 - val_accuracy: 0.9937\n",
      "Epoch 14/100\n",
      "22/22 [==============================] - 2s 82ms/step - loss: 0.0023 - accuracy: 1.0000 - val_loss: 0.0558 - val_accuracy: 0.9937\n",
      "Epoch 15/100\n",
      "22/22 [==============================] - 2s 85ms/step - loss: 4.4353e-04 - accuracy: 1.0000 - val_loss: 0.0718 - val_accuracy: 0.9875\n",
      "Epoch 16/100\n",
      "22/22 [==============================] - 2s 83ms/step - loss: 2.5472e-04 - accuracy: 1.0000 - val_loss: 0.0953 - val_accuracy: 0.9875\n",
      "Epoch 17/100\n",
      "22/22 [==============================] - 2s 83ms/step - loss: 3.3094e-04 - accuracy: 1.0000 - val_loss: 0.0668 - val_accuracy: 0.9875\n",
      "Epoch 18/100\n",
      "22/22 [==============================] - 2s 84ms/step - loss: 1.5363e-04 - accuracy: 1.0000 - val_loss: 0.0719 - val_accuracy: 0.9875\n",
      "Epoch 19/100\n",
      "22/22 [==============================] - 2s 83ms/step - loss: 9.2336e-05 - accuracy: 1.0000 - val_loss: 0.0763 - val_accuracy: 0.9875\n",
      "Epoch 20/100\n",
      "22/22 [==============================] - 2s 98ms/step - loss: 6.0531e-05 - accuracy: 1.0000 - val_loss: 0.0800 - val_accuracy: 0.9875\n",
      "Epoch 21/100\n",
      "22/22 [==============================] - 2s 101ms/step - loss: 4.0694e-05 - accuracy: 1.0000 - val_loss: 0.0833 - val_accuracy: 0.9875\n",
      "Epoch 22/100\n",
      "22/22 [==============================] - 2s 87ms/step - loss: 3.0412e-05 - accuracy: 1.0000 - val_loss: 0.0871 - val_accuracy: 0.9875\n",
      "Epoch 23/100\n",
      "22/22 [==============================] - 2s 90ms/step - loss: 2.5306e-05 - accuracy: 1.0000 - val_loss: 0.0892 - val_accuracy: 0.9875\n",
      "Epoch 24/100\n",
      "22/22 [==============================] - 2s 95ms/step - loss: 2.4703e-05 - accuracy: 1.0000 - val_loss: 0.0855 - val_accuracy: 0.9875\n",
      "Epoch 25/100\n",
      "22/22 [==============================] - 2s 113ms/step - loss: 2.5788e-05 - accuracy: 1.0000 - val_loss: 0.0864 - val_accuracy: 0.9875\n",
      "Epoch 26/100\n",
      "22/22 [==============================] - 2s 104ms/step - loss: 2.1118e-05 - accuracy: 1.0000 - val_loss: 0.0909 - val_accuracy: 0.9875\n",
      "Epoch 27/100\n",
      "22/22 [==============================] - 2s 88ms/step - loss: 1.8811e-05 - accuracy: 1.0000 - val_loss: 0.0896 - val_accuracy: 0.9875\n",
      "Epoch 28/100\n",
      "22/22 [==============================] - 2s 87ms/step - loss: 1.7844e-05 - accuracy: 1.0000 - val_loss: 0.0900 - val_accuracy: 0.9875\n",
      "Epoch 29/100\n",
      "22/22 [==============================] - 2s 87ms/step - loss: 1.7026e-05 - accuracy: 1.0000 - val_loss: 0.0897 - val_accuracy: 0.9875\n",
      "Epoch 30/100\n",
      "22/22 [==============================] - 2s 87ms/step - loss: 1.6380e-05 - accuracy: 1.0000 - val_loss: 0.0910 - val_accuracy: 0.9875\n",
      "Epoch 31/100\n",
      "22/22 [==============================] - 2s 88ms/step - loss: 1.5430e-05 - accuracy: 1.0000 - val_loss: 0.0935 - val_accuracy: 0.9812\n",
      "Epoch 32/100\n",
      "22/22 [==============================] - 2s 87ms/step - loss: 1.4321e-05 - accuracy: 1.0000 - val_loss: 0.0912 - val_accuracy: 0.9875\n",
      "Epoch 33/100\n",
      "22/22 [==============================] - 2s 86ms/step - loss: 1.3936e-05 - accuracy: 1.0000 - val_loss: 0.0925 - val_accuracy: 0.9875\n",
      "Epoch 34/100\n",
      "22/22 [==============================] - 2s 93ms/step - loss: 1.3361e-05 - accuracy: 1.0000 - val_loss: 0.0933 - val_accuracy: 0.9812\n",
      "Epoch 35/100\n",
      "22/22 [==============================] - 2s 88ms/step - loss: 1.3325e-05 - accuracy: 1.0000 - val_loss: 0.0910 - val_accuracy: 0.9875\n",
      "Epoch 36/100\n",
      "22/22 [==============================] - 2s 89ms/step - loss: 1.2757e-05 - accuracy: 1.0000 - val_loss: 0.0934 - val_accuracy: 0.9875\n",
      "Epoch 37/100\n",
      "22/22 [==============================] - 2s 88ms/step - loss: 1.2224e-05 - accuracy: 1.0000 - val_loss: 0.0933 - val_accuracy: 0.9875\n",
      "Epoch 38/100\n",
      "22/22 [==============================] - 2s 89ms/step - loss: 1.1981e-05 - accuracy: 1.0000 - val_loss: 0.0923 - val_accuracy: 0.9875\n",
      "Epoch 39/100\n",
      "22/22 [==============================] - 2s 95ms/step - loss: 1.1299e-05 - accuracy: 1.0000 - val_loss: 0.0947 - val_accuracy: 0.9812\n",
      "Epoch 40/100\n",
      "22/22 [==============================] - 2s 91ms/step - loss: 1.1391e-05 - accuracy: 1.0000 - val_loss: 0.0956 - val_accuracy: 0.9812\n",
      "Epoch 41/100\n",
      "22/22 [==============================] - 2s 87ms/step - loss: 1.0696e-05 - accuracy: 1.0000 - val_loss: 0.0942 - val_accuracy: 0.9875\n",
      "Epoch 42/100\n",
      "22/22 [==============================] - 2s 88ms/step - loss: 1.0297e-05 - accuracy: 1.0000 - val_loss: 0.0956 - val_accuracy: 0.9812\n",
      "Epoch 43/100\n",
      "22/22 [==============================] - 2s 90ms/step - loss: 1.0190e-05 - accuracy: 1.0000 - val_loss: 0.0945 - val_accuracy: 0.9875\n",
      "Epoch 44/100\n",
      "22/22 [==============================] - 2s 87ms/step - loss: 9.7846e-06 - accuracy: 1.0000 - val_loss: 0.0948 - val_accuracy: 0.9875\n",
      "Epoch 45/100\n",
      "22/22 [==============================] - 2s 87ms/step - loss: 9.4829e-06 - accuracy: 1.0000 - val_loss: 0.0954 - val_accuracy: 0.9812\n",
      "Epoch 46/100\n",
      "22/22 [==============================] - 2s 87ms/step - loss: 9.2600e-06 - accuracy: 1.0000 - val_loss: 0.0948 - val_accuracy: 0.9875\n",
      "Epoch 47/100\n",
      "22/22 [==============================] - 2s 87ms/step - loss: 8.8577e-06 - accuracy: 1.0000 - val_loss: 0.0969 - val_accuracy: 0.9812\n",
      "Epoch 48/100\n",
      "22/22 [==============================] - 2s 87ms/step - loss: 8.7442e-06 - accuracy: 1.0000 - val_loss: 0.0965 - val_accuracy: 0.9812\n",
      "Epoch 49/100\n",
      "22/22 [==============================] - 2s 90ms/step - loss: 8.5680e-06 - accuracy: 1.0000 - val_loss: 0.0957 - val_accuracy: 0.9875\n",
      "Epoch 50/100\n",
      "22/22 [==============================] - 2s 87ms/step - loss: 8.0037e-06 - accuracy: 1.0000 - val_loss: 0.0980 - val_accuracy: 0.9812\n",
      "Epoch 51/100\n",
      "22/22 [==============================] - 2s 86ms/step - loss: 8.0421e-06 - accuracy: 1.0000 - val_loss: 0.0965 - val_accuracy: 0.9875\n",
      "Epoch 52/100\n",
      "22/22 [==============================] - 2s 87ms/step - loss: 7.7445e-06 - accuracy: 1.0000 - val_loss: 0.0974 - val_accuracy: 0.9812\n",
      "Epoch 53/100\n",
      "22/22 [==============================] - 2s 87ms/step - loss: 7.4660e-06 - accuracy: 1.0000 - val_loss: 0.0983 - val_accuracy: 0.9812\n",
      "Epoch 54/100\n",
      "22/22 [==============================] - 2s 88ms/step - loss: 7.2863e-06 - accuracy: 1.0000 - val_loss: 0.0981 - val_accuracy: 0.9812\n",
      "Epoch 55/100\n",
      "22/22 [==============================] - 2s 87ms/step - loss: 7.1447e-06 - accuracy: 1.0000 - val_loss: 0.0986 - val_accuracy: 0.9812\n",
      "Epoch 56/100\n",
      "22/22 [==============================] - 2s 88ms/step - loss: 7.0375e-06 - accuracy: 1.0000 - val_loss: 0.0979 - val_accuracy: 0.9812\n",
      "Epoch 57/100\n"
     ]
    },
    {
     "name": "stdout",
     "output_type": "stream",
     "text": [
      "22/22 [==============================] - 2s 85ms/step - loss: 6.7369e-06 - accuracy: 1.0000 - val_loss: 0.0983 - val_accuracy: 0.9812\n",
      "Epoch 58/100\n",
      "22/22 [==============================] - 2s 85ms/step - loss: 6.5964e-06 - accuracy: 1.0000 - val_loss: 0.0981 - val_accuracy: 0.9812\n",
      "Epoch 59/100\n",
      "22/22 [==============================] - 2s 86ms/step - loss: 6.5378e-06 - accuracy: 1.0000 - val_loss: 0.0990 - val_accuracy: 0.9812\n",
      "Epoch 60/100\n",
      "22/22 [==============================] - 2s 86ms/step - loss: 6.2565e-06 - accuracy: 1.0000 - val_loss: 0.0997 - val_accuracy: 0.9812\n",
      "Epoch 61/100\n",
      "22/22 [==============================] - 2s 86ms/step - loss: 6.1409e-06 - accuracy: 1.0000 - val_loss: 0.1002 - val_accuracy: 0.9812\n",
      "Epoch 62/100\n",
      "22/22 [==============================] - 2s 86ms/step - loss: 6.2923e-06 - accuracy: 1.0000 - val_loss: 0.0959 - val_accuracy: 0.9875\n",
      "Epoch 63/100\n",
      "22/22 [==============================] - 2s 88ms/step - loss: 6.2524e-06 - accuracy: 1.0000 - val_loss: 0.1002 - val_accuracy: 0.9812\n",
      "Epoch 64/100\n",
      "22/22 [==============================] - 2s 86ms/step - loss: 5.8367e-06 - accuracy: 1.0000 - val_loss: 0.0987 - val_accuracy: 0.9875\n",
      "Epoch 65/100\n",
      "22/22 [==============================] - 2s 94ms/step - loss: 5.3998e-06 - accuracy: 1.0000 - val_loss: 0.1024 - val_accuracy: 0.9812\n",
      "Epoch 66/100\n",
      "22/22 [==============================] - 2s 97ms/step - loss: 7.0889e-06 - accuracy: 1.0000 - val_loss: 0.0946 - val_accuracy: 0.9875\n",
      "Epoch 67/100\n",
      "22/22 [==============================] - 2s 98ms/step - loss: 6.3171e-06 - accuracy: 1.0000 - val_loss: 0.1009 - val_accuracy: 0.9812\n",
      "Epoch 68/100\n",
      "22/22 [==============================] - 2s 89ms/step - loss: 5.3035e-06 - accuracy: 1.0000 - val_loss: 0.1000 - val_accuracy: 0.9812\n",
      "Epoch 69/100\n",
      "22/22 [==============================] - 2s 87ms/step - loss: 5.0809e-06 - accuracy: 1.0000 - val_loss: 0.1000 - val_accuracy: 0.9875\n",
      "Epoch 70/100\n",
      "22/22 [==============================] - 2s 88ms/step - loss: 4.9649e-06 - accuracy: 1.0000 - val_loss: 0.1015 - val_accuracy: 0.9812\n",
      "Epoch 71/100\n",
      "22/22 [==============================] - 2s 89ms/step - loss: 4.8894e-06 - accuracy: 1.0000 - val_loss: 0.1013 - val_accuracy: 0.9812\n",
      "Epoch 72/100\n",
      "22/22 [==============================] - 2s 85ms/step - loss: 4.9180e-06 - accuracy: 1.0000 - val_loss: 0.0983 - val_accuracy: 0.9875\n",
      "Epoch 73/100\n",
      "22/22 [==============================] - 2s 85ms/step - loss: 4.9881e-06 - accuracy: 1.0000 - val_loss: 0.1009 - val_accuracy: 0.9812\n",
      "Epoch 74/100\n",
      "22/22 [==============================] - 2s 86ms/step - loss: 4.5691e-06 - accuracy: 1.0000 - val_loss: 0.1021 - val_accuracy: 0.9812\n",
      "Epoch 75/100\n",
      "22/22 [==============================] - 2s 85ms/step - loss: 4.4862e-06 - accuracy: 1.0000 - val_loss: 0.1024 - val_accuracy: 0.9812\n",
      "Epoch 76/100\n",
      "22/22 [==============================] - 2s 86ms/step - loss: 4.7164e-06 - accuracy: 1.0000 - val_loss: 0.1008 - val_accuracy: 0.9875\n",
      "Epoch 77/100\n",
      "22/22 [==============================] - 2s 96ms/step - loss: 4.3245e-06 - accuracy: 1.0000 - val_loss: 0.1034 - val_accuracy: 0.9812\n",
      "Epoch 78/100\n",
      "22/22 [==============================] - 2s 99ms/step - loss: 4.2388e-06 - accuracy: 1.0000 - val_loss: 0.1022 - val_accuracy: 0.9812\n",
      "Epoch 79/100\n",
      "22/22 [==============================] - 2s 94ms/step - loss: 4.2137e-06 - accuracy: 1.0000 - val_loss: 0.1035 - val_accuracy: 0.9812\n",
      "Epoch 80/100\n",
      "22/22 [==============================] - 2s 100ms/step - loss: 4.1324e-06 - accuracy: 1.0000 - val_loss: 0.1022 - val_accuracy: 0.9812\n",
      "Epoch 81/100\n",
      "22/22 [==============================] - 2s 101ms/step - loss: 3.9884e-06 - accuracy: 1.0000 - val_loss: 0.1033 - val_accuracy: 0.9812\n",
      "Epoch 82/100\n",
      "22/22 [==============================] - 2s 99ms/step - loss: 4.1291e-06 - accuracy: 1.0000 - val_loss: 0.1007 - val_accuracy: 0.9875\n",
      "Epoch 83/100\n",
      "22/22 [==============================] - 2s 102ms/step - loss: 4.0277e-06 - accuracy: 1.0000 - val_loss: 0.1041 - val_accuracy: 0.9812\n",
      "Epoch 84/100\n",
      "22/22 [==============================] - 2s 110ms/step - loss: 3.9131e-06 - accuracy: 1.0000 - val_loss: 0.1036 - val_accuracy: 0.9812\n",
      "Epoch 85/100\n",
      "22/22 [==============================] - 3s 117ms/step - loss: 4.0061e-06 - accuracy: 1.0000 - val_loss: 0.0986 - val_accuracy: 0.9875\n",
      "Epoch 86/100\n",
      "22/22 [==============================] - 2s 98ms/step - loss: 4.6174e-06 - accuracy: 1.0000 - val_loss: 0.1007 - val_accuracy: 0.9875\n",
      "Epoch 87/100\n",
      "22/22 [==============================] - 3s 115ms/step - loss: 3.7682e-06 - accuracy: 1.0000 - val_loss: 0.1029 - val_accuracy: 0.9812\n",
      "Epoch 88/100\n",
      "22/22 [==============================] - 3s 117ms/step - loss: 3.6256e-06 - accuracy: 1.0000 - val_loss: 0.1041 - val_accuracy: 0.9812\n",
      "Epoch 89/100\n",
      "22/22 [==============================] - 2s 108ms/step - loss: 3.4540e-06 - accuracy: 1.0000 - val_loss: 0.1044 - val_accuracy: 0.9812\n",
      "Epoch 90/100\n",
      "22/22 [==============================] - 2s 91ms/step - loss: 3.5328e-06 - accuracy: 1.0000 - val_loss: 0.1025 - val_accuracy: 0.9875\n",
      "Epoch 91/100\n",
      "22/22 [==============================] - 2s 100ms/step - loss: 3.4731e-06 - accuracy: 1.0000 - val_loss: 0.1035 - val_accuracy: 0.9812\n",
      "Epoch 92/100\n",
      "22/22 [==============================] - 2s 92ms/step - loss: 3.3986e-06 - accuracy: 1.0000 - val_loss: 0.1048 - val_accuracy: 0.9812\n",
      "Epoch 93/100\n",
      "22/22 [==============================] - 2s 94ms/step - loss: 3.2901e-06 - accuracy: 1.0000 - val_loss: 0.1049 - val_accuracy: 0.9812\n",
      "Epoch 94/100\n",
      "22/22 [==============================] - 2s 96ms/step - loss: 3.1400e-06 - accuracy: 1.0000 - val_loss: 0.1066 - val_accuracy: 0.9812\n",
      "Epoch 95/100\n",
      "22/22 [==============================] - 2s 92ms/step - loss: 3.4578e-06 - accuracy: 1.0000 - val_loss: 0.1035 - val_accuracy: 0.9812\n",
      "Epoch 96/100\n",
      "22/22 [==============================] - 2s 89ms/step - loss: 3.1411e-06 - accuracy: 1.0000 - val_loss: 0.1037 - val_accuracy: 0.9812\n",
      "Epoch 97/100\n",
      "22/22 [==============================] - 2s 92ms/step - loss: 2.9810e-06 - accuracy: 1.0000 - val_loss: 0.1073 - val_accuracy: 0.9812\n",
      "Epoch 98/100\n",
      "22/22 [==============================] - 2s 90ms/step - loss: 3.3053e-06 - accuracy: 1.0000 - val_loss: 0.1021 - val_accuracy: 0.9875\n",
      "Epoch 99/100\n",
      "22/22 [==============================] - 2s 87ms/step - loss: 2.9545e-06 - accuracy: 1.0000 - val_loss: 0.1078 - val_accuracy: 0.9812\n",
      "Epoch 100/100\n",
      "22/22 [==============================] - 2s 90ms/step - loss: 3.1856e-06 - accuracy: 1.0000 - val_loss: 0.1033 - val_accuracy: 0.9875\n"
     ]
    },
    {
     "data": {
      "text/plain": [
       "<keras.callbacks.History at 0x20100cb2430>"
      ]
     },
     "execution_count": 205,
     "metadata": {},
     "output_type": "execute_result"
    }
   ],
   "source": [
    "model.fit(X_train, y_train, validation_data=(X_cv, y_cv), epochs=100, batch_size=20)"
   ]
  },
  {
   "cell_type": "markdown",
   "id": "bbc2f718",
   "metadata": {},
   "source": [
    "# Inference"
   ]
  },
  {
   "cell_type": "code",
   "execution_count": null,
   "id": "2c898148",
   "metadata": {},
   "outputs": [],
   "source": [
    "\"C:\\Users\\Assus\\Cricket NLP\\Cricket NLP Version 1.1\\Dataset\\Left or Right Data\\Resized\\test\\left\\AghhkPjJpVQ_842_845_40.jpg\""
   ]
  },
  {
   "cell_type": "code",
   "execution_count": 244,
   "id": "6e0caa77",
   "metadata": {},
   "outputs": [],
   "source": [
    "img_path = dataset + \"Left or Right Data/Resized/test/left/AghhkPjJpVQ_842_845_40.jpg\""
   ]
  },
  {
   "cell_type": "code",
   "execution_count": 245,
   "id": "187d6bdf",
   "metadata": {},
   "outputs": [],
   "source": [
    "img = cv2.imread(img_path)"
   ]
  },
  {
   "cell_type": "code",
   "execution_count": 246,
   "id": "0af0b236",
   "metadata": {},
   "outputs": [
    {
     "data": {
      "text/plain": [
       "(89, 124, 3)"
      ]
     },
     "execution_count": 246,
     "metadata": {},
     "output_type": "execute_result"
    }
   ],
   "source": [
    "img.shape"
   ]
  },
  {
   "cell_type": "code",
   "execution_count": 223,
   "id": "236ba9a1",
   "metadata": {},
   "outputs": [
    {
     "ename": "TypeError",
     "evalue": "only integer scalar arrays can be converted to a scalar index",
     "output_type": "error",
     "traceback": [
      "\u001b[1;31m---------------------------------------------------------------------------\u001b[0m",
      "\u001b[1;31mTypeError\u001b[0m                                 Traceback (most recent call last)",
      "\u001b[1;32m<ipython-input-223-fc01825f27a2>\u001b[0m in \u001b[0;36m<module>\u001b[1;34m\u001b[0m\n\u001b[1;32m----> 1\u001b[1;33m \u001b[0mimg\u001b[0m \u001b[1;33m=\u001b[0m \u001b[0mimg\u001b[0m\u001b[1;33m.\u001b[0m\u001b[0mresize\u001b[0m\u001b[1;33m(\u001b[0m\u001b[0mimg\u001b[0m\u001b[1;33m,\u001b[0m \u001b[1;33m(\u001b[0m\u001b[1;36m124\u001b[0m\u001b[1;33m,\u001b[0m \u001b[1;36m89\u001b[0m\u001b[1;33m)\u001b[0m\u001b[1;33m)\u001b[0m\u001b[1;33m\u001b[0m\u001b[1;33m\u001b[0m\u001b[0m\n\u001b[0m",
      "\u001b[1;31mTypeError\u001b[0m: only integer scalar arrays can be converted to a scalar index"
     ]
    }
   ],
   "source": [
    "img = img.resize(img, (124, 89))"
   ]
  },
  {
   "cell_type": "code",
   "execution_count": 254,
   "id": "567d20af",
   "metadata": {},
   "outputs": [],
   "source": [
    "data = {\"Input\": [img]}\n",
    "df = pd.DataFrame(data)"
   ]
  },
  {
   "cell_type": "code",
   "execution_count": 248,
   "id": "51c75682",
   "metadata": {},
   "outputs": [],
   "source": [
    "test = df[\"Input\"].values"
   ]
  },
  {
   "cell_type": "code",
   "execution_count": 249,
   "id": "8d2b3cdf",
   "metadata": {},
   "outputs": [],
   "source": [
    "test_list = [test[0]]"
   ]
  },
  {
   "cell_type": "code",
   "execution_count": 250,
   "id": "b7103d60",
   "metadata": {},
   "outputs": [],
   "source": [
    "test = np.array(test_list)"
   ]
  },
  {
   "cell_type": "code",
   "execution_count": 251,
   "id": "d4254dfe",
   "metadata": {},
   "outputs": [],
   "source": [
    "img = tf.convert_to_tensor(np.array(test))"
   ]
  },
  {
   "cell_type": "code",
   "execution_count": 252,
   "id": "fabf8f25",
   "metadata": {},
   "outputs": [
    {
     "data": {
      "text/plain": [
       "TensorShape([1, 89, 124, 3])"
      ]
     },
     "execution_count": 252,
     "metadata": {},
     "output_type": "execute_result"
    }
   ],
   "source": [
    "img.shape"
   ]
  },
  {
   "cell_type": "code",
   "execution_count": 253,
   "id": "a53a1518",
   "metadata": {},
   "outputs": [
    {
     "data": {
      "text/plain": [
       "array([[1.0000000e+00, 1.3814288e-11]], dtype=float32)"
      ]
     },
     "execution_count": 253,
     "metadata": {},
     "output_type": "execute_result"
    }
   ],
   "source": [
    "model.predict([img])"
   ]
  },
  {
   "cell_type": "code",
   "execution_count": 255,
   "id": "6d813741",
   "metadata": {},
   "outputs": [],
   "source": [
    "from keras.models import save_model\n"
   ]
  },
  {
   "cell_type": "code",
   "execution_count": 256,
   "id": "82353a3a",
   "metadata": {},
   "outputs": [
    {
     "name": "stdout",
     "output_type": "stream",
     "text": [
      "INFO:tensorflow:Assets written to: Left or right\\assets\n"
     ]
    }
   ],
   "source": [
    "model.save(\"Left or right\")"
   ]
  },
  {
   "cell_type": "code",
   "execution_count": null,
   "id": "9eeca0fc",
   "metadata": {},
   "outputs": [],
   "source": []
  },
  {
   "cell_type": "code",
   "execution_count": null,
   "id": "f928adf0",
   "metadata": {},
   "outputs": [],
   "source": []
  },
  {
   "cell_type": "code",
   "execution_count": null,
   "id": "10cbddf4",
   "metadata": {},
   "outputs": [],
   "source": []
  },
  {
   "cell_type": "code",
   "execution_count": null,
   "id": "c00cb476",
   "metadata": {},
   "outputs": [],
   "source": []
  },
  {
   "cell_type": "code",
   "execution_count": null,
   "id": "caa443cf",
   "metadata": {},
   "outputs": [],
   "source": []
  },
  {
   "cell_type": "code",
   "execution_count": null,
   "id": "b2321ff8",
   "metadata": {},
   "outputs": [],
   "source": []
  },
  {
   "cell_type": "code",
   "execution_count": 3,
   "id": "aa5aa4ad",
   "metadata": {},
   "outputs": [],
   "source": [
    "from keras.models import load_model\n"
   ]
  },
  {
   "cell_type": "code",
   "execution_count": 4,
   "id": "1266b35b",
   "metadata": {},
   "outputs": [],
   "source": [
    "model = load_model(\"Left or Right\")"
   ]
  },
  {
   "cell_type": "code",
   "execution_count": 3,
   "id": "b4579270",
   "metadata": {},
   "outputs": [
    {
     "data": {
      "text/plain": [
       "<keras.engine.sequential.Sequential at 0x2398457a8e0>"
      ]
     },
     "execution_count": 3,
     "metadata": {},
     "output_type": "execute_result"
    }
   ],
   "source": [
    "{0: \"Left\", 1:\"Right\"}"
   ]
  },
  {
   "cell_type": "code",
   "execution_count": 12,
   "id": "0ba68242",
   "metadata": {},
   "outputs": [],
   "source": [
    "def predict_img(path):\n",
    "    img = cv2.imread(img_path)\n",
    "    img = cv2.cvtColor(img, cv2.COLOR_BGR2GRAY)\n",
    "    cv2.imwrite(path, img)\n",
    "    img = cv2.imread(path)\n",
    "    try:\n",
    "        img = cv2.resize(img, (124, 89))\n",
    "    except Exception as e:\n",
    "        print(e)\n",
    "        img = img\n",
    "        return\n",
    "    \n",
    "    data = {\"Input\": [img]}\n",
    "    df = pd.DataFrame(data)\n",
    "    test = df[\"Input\"].values\n",
    "    test_list = [test[0]]\n",
    "    test = np.array(test_list)\n",
    "    img = tf.convert_to_tensor(np.array(test))\n",
    "    predictions = model.predict([img])\n",
    "    left = predictions[0][0]\n",
    "    right = predictions[0][1]\n",
    "    \n",
    "    print(\"Left prob: \" + str((left)))\n",
    "    print(\"\\n\")\n",
    "    print(\"Right prob: \" + str((right)))"
   ]
  },
  {
   "cell_type": "code",
   "execution_count": null,
   "id": "693579eb",
   "metadata": {},
   "outputs": [],
   "source": [
    "\"C:\\Users\\Assus\\Cricket NLP\\Cricket NLP Version 1.1\\Dataset\\Left or Right Data\\Screenshot (128).png\""
   ]
  },
  {
   "cell_type": "code",
   "execution_count": 14,
   "id": "c9a7a1c3",
   "metadata": {},
   "outputs": [
    {
     "name": "stdout",
     "output_type": "stream",
     "text": [
      "Left prob: 5.324265e-06\n",
      "\n",
      "\n",
      "Right prob: 0.99999464\n"
     ]
    }
   ],
   "source": [
    "img_path = dataset + \"Left or Right Data/Screenshot (128).png\"\n",
    "predict_img(img_path)"
   ]
  },
  {
   "cell_type": "code",
   "execution_count": null,
   "id": "66e77a57",
   "metadata": {},
   "outputs": [],
   "source": [
    "\"C:\\Users\\Assus\\Cricket NLP\\Cricket NLP Version 1.1\\Dataset\\Left or Right Data\\Raw\\test_unseen\\right\\s8OJgjKlxnk_72_74_31.jpg\""
   ]
  }
 ],
 "metadata": {
  "kernelspec": {
   "display_name": "Python 3",
   "language": "python",
   "name": "python3"
  },
  "language_info": {
   "codemirror_mode": {
    "name": "ipython",
    "version": 3
   },
   "file_extension": ".py",
   "mimetype": "text/x-python",
   "name": "python",
   "nbconvert_exporter": "python",
   "pygments_lexer": "ipython3",
   "version": "3.8.8"
  }
 },
 "nbformat": 4,
 "nbformat_minor": 5
}
