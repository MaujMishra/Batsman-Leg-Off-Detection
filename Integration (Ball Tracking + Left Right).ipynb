{
 "cells": [
  {
   "cell_type": "code",
   "execution_count": 1,
   "id": "b0c6a57d",
   "metadata": {},
   "outputs": [],
   "source": [
    "import os\n",
    "import cv2\n",
    "import pandas as pd\n",
    "import numpy as np\n",
    "import tensorflow as tf\n",
    "import torch\n",
    "import shutil\n",
    "import glob\n",
    "import PIL\n",
    "from keras.models import load_model"
   ]
  },
  {
   "cell_type": "code",
   "execution_count": 2,
   "id": "3c7e982e",
   "metadata": {},
   "outputs": [],
   "source": [
    "weights_batsman_detection = \"./YOLOv5/batsman_detection_kaggle.pt\"\n",
    "weights_ball_detection = \"./YOLOV5/ball_detection_kaggle.pt\""
   ]
  },
  {
   "cell_type": "code",
   "execution_count": 3,
   "id": "1acb2467",
   "metadata": {},
   "outputs": [
    {
     "name": "stderr",
     "output_type": "stream",
     "text": [
      "YOLOv5  2022-10-9 Python-3.8.8 torch-1.11.0+cpu CPU\n",
      "\n",
      "Fusing layers... \n",
      "YOLOv5s summary: 157 layers, 7012822 parameters, 0 gradients, 15.8 GFLOPs\n",
      "Adding AutoShape... \n",
      "YOLOv5  2022-10-9 Python-3.8.8 torch-1.11.0+cpu CPU\n",
      "\n",
      "Fusing layers... \n",
      "YOLOv5s summary: 157 layers, 7012822 parameters, 0 gradients, 15.8 GFLOPs\n",
      "Adding AutoShape... \n"
     ]
    }
   ],
   "source": [
    "model_l_r = load_model(\"./Left or right\")\n",
    "model_batsman_detection = torch.hub.load(\"./YOLOv5/yolov5/\", source=\"local\",model=\"custom\", path=weights_batsman_detection)\n",
    "model_ball_detection = torch.hub.load(\"./YOLOv5/yolov5/\", source=\"local\",model=\"custom\", path=weights_ball_detection)"
   ]
  },
  {
   "cell_type": "code",
   "execution_count": 4,
   "id": "c90bed47",
   "metadata": {},
   "outputs": [],
   "source": [
    "dataset = \"../Dataset/\"\n",
    "temp_images = \"./Integration (Ball Tracking + Left Right)/Temp Images/\"\n",
    "org_frames = \"./Integration (Ball Tracking + Left Right)/Org Frames/\""
   ]
  },
  {
   "cell_type": "code",
   "execution_count": 5,
   "id": "910eabe6",
   "metadata": {},
   "outputs": [],
   "source": [
    "def detect_left_right(img_path): # Image will be grayscale\n",
    "    img = cv2.imread(img_path)\n",
    "    img = cv2.resize(img, (124, 89))\n",
    "    \n",
    "    data = {\"Input\": [img]}\n",
    "    df = pd.DataFrame(data)\n",
    "    test = df[\"Input\"].values\n",
    "    test_list = [test[0]]\n",
    "    \n",
    "    test = np.array(test_list)\n",
    "    img = tf.convert_to_tensor(np.array(test))\n",
    "    \n",
    "    predictions = model_l_r.predict([img])\n",
    "    left = predictions[0][0]\n",
    "    right = predictions[0][1]\n",
    "        \n",
    "    if left > right:\n",
    "        return \"left\"\n",
    "    elif right > left:\n",
    "        return \"right\"\n",
    "    else:\n",
    "        return \"unsure\""
   ]
  },
  {
   "cell_type": "code",
   "execution_count": 10,
   "id": "4d5193ee",
   "metadata": {},
   "outputs": [],
   "source": [
    "def inference(vid_path):\n",
    "    try:\n",
    "        os.mkdir(\"./Integration (Ball Tracking + Left Right)/Org Frames\")\n",
    "        os.mkdir(\"./Integration (Ball Tracking + Left Right)/Temp Images\")\n",
    "        os.mkdir(\"./Integration (Ball Tracking + Left Right)/Cropped Images\")\n",
    "    except:\n",
    "        pass\n",
    "\n",
    "    vidCapture = cv2.VideoCapture(vid_path)\n",
    "\n",
    "    count_frames = 0\n",
    "    left_right_lst = []\n",
    "    res_lst = []\n",
    "    \n",
    "    while(True):\n",
    "        ret, frame = vidCapture.read()\n",
    "\n",
    "        if ret is False:\n",
    "            break\n",
    "        \n",
    "        cv2.imwrite(org_frames + str(count_frames) + \".jpg\", frame)\n",
    "        \n",
    "        if (count_frames<15):\n",
    "\n",
    "            frame = cv2.cvtColor(frame, cv2.COLOR_BGR2GRAY)\n",
    "            cv2.imwrite(temp_images + str(count_frames) + \".jpg\", frame)\n",
    "\n",
    "            prediction_batsman = model_batsman_detection(temp_images + str(count_frames) + \".jpg\")\n",
    "\n",
    "            try:\n",
    "                prediction_coordinates = prediction_batsman.pandas().xyxy[0].sort_values(by=\"confidence\", ascending=False).iloc[0, :]\n",
    "            except Exception as e:\n",
    "                continue\n",
    "\n",
    "            x_min = int(prediction_coordinates[\"xmin\"])\n",
    "            y_min = int(prediction_coordinates[\"ymin\"])\n",
    "            x_max = int(prediction_coordinates[\"xmax\"])\n",
    "            y_max = int(prediction_coordinates[\"ymax\"])\n",
    "\n",
    "            cropped_img = []\n",
    "            for x_index in range(y_min, y_max):\n",
    "                cropped_img.append(frame[x_index])\n",
    "\n",
    "            cropped_img_final = []\n",
    "            for x_crop in cropped_img:\n",
    "                new_crop = []\n",
    "                for y_index in range(x_min, x_max):\n",
    "                    new_crop.append(x_crop[y_index])\n",
    "                cropped_img_final.append(np.array(new_crop))\n",
    "\n",
    "\n",
    "            cv2.imwrite(\"./Integration (Ball Tracking + Left Right)/Cropped Images/\"+ str(count_frames) + \"_cropped.jpg\", np.array(cropped_img_final))\n",
    "\n",
    "\n",
    "            res = detect_left_right(\"./Integration (Ball Tracking + Left Right)/Cropped Images/\"+ str(count_frames) + \"_cropped.jpg\")\n",
    "            left_right_lst.append(res)\n",
    "\n",
    "        count_frames += 1\n",
    "    \n",
    "    frame_lst_len = len(glob.glob(org_frames + \"*.jpg\"))\n",
    "    sorted_lst = []\n",
    "    for i in range(frame_lst_len):\n",
    "        sorted_lst.append(str(i) + \".jpg\")\n",
    "        \n",
    "    \n",
    "    for i in sorted_lst:\n",
    "        path = \"./Integration (Ball Tracking + Left Right)/Org Frames/\" + i\n",
    "\n",
    "        pred = model_ball_detection(path)\n",
    "        try:\n",
    "            best_ball = pred.pandas().xyxy[0].sort_values(by=\"confidence\", ascending=False).iloc[0, :]\n",
    "            if (best_ball[\"confidence\"] > 0.3):\n",
    "                temp_dict = {\"xmin\": best_ball[\"xmin\"],\n",
    "                             \"ymin\": best_ball[\"ymin\"],\n",
    "                             \"xmax\": best_ball[\"xmax\"],\n",
    "                             \"ymax\": best_ball[\"ymax\"],\n",
    "                              \"conf\": best_ball[\"confidence\"]}\n",
    "                res_lst.append(temp_dict)\n",
    "        except:\n",
    "            pass\n",
    "        \n",
    "    x_lst = []\n",
    "    y_lst = []\n",
    "\n",
    "    penalty = 0\n",
    "    for elem in res_lst:\n",
    "        x_lst.append(elem[\"xmax\"])\n",
    "        y_lst.append(elem[\"ymax\"] + penalty)\n",
    "        penalty += 100\n",
    "    \n",
    "    x1 = x_lst[0]\n",
    "    y1 = y_lst[0]\n",
    "    x2 = x_lst[-1]\n",
    "    y2 = y_lst[-1]\n",
    "\n",
    "    slope = ((y2-y1) / (x2-x1))\n",
    "    left_count = left_right_lst.count(\"left\")\n",
    "    right_count = left_right_lst.count(\"right\")\n",
    "    \n",
    "    shot_style = \"Unsure\"\n",
    "    \n",
    "    shutil.rmtree(\"./Integration (Ball Tracking + Left Right)/Temp Images\")\n",
    "    shutil.rmtree(\"./Integration (Ball Tracking + Left Right)/Org Frames\")\n",
    "    shutil.rmtree(\"./Integration (Ball Tracking + Left Right)/Cropped Images\")\n",
    "\n",
    "    if right_count > left_count:\n",
    "        if slope < 0:\n",
    "            shot_style = \"Off side\"\n",
    "        else:\n",
    "            shot_style = \"Leg side\"\n",
    "            \n",
    "        return [\"Right handed\", shot_style]\n",
    "    elif left_count > right_count:\n",
    "        if slope > 0:\n",
    "            shot_style = \"Off side\"\n",
    "        else:\n",
    "            shot_style = \"Leg side\"\n",
    "            \n",
    "        return [\"Left Handed\", shot_style]\n",
    "    else:\n",
    "        return [\"Unsure\", shot_style]"
   ]
  },
  {
   "cell_type": "code",
   "execution_count": null,
   "id": "0ba2c52a",
   "metadata": {},
   "outputs": [],
   "source": [
    "\"C:\\Users\\Assus\\Cricket NLP\\Cricket NLP Version 1.1\\Dataset\\8qXVwlm9eGQ\\53_59_Trim.mp4\""
   ]
  },
  {
   "cell_type": "code",
   "execution_count": 12,
   "id": "aa66e916",
   "metadata": {
    "scrolled": true
   },
   "outputs": [
    {
     "data": {
      "text/plain": [
       "['Right handed', 'Off side']"
      ]
     },
     "execution_count": 12,
     "metadata": {},
     "output_type": "execute_result"
    }
   ],
   "source": [
    "result = inference('../Dataset/8qXVwlm9eGQ/53_59_Trim.mp4')\n",
    "result"
   ]
  },
  {
   "cell_type": "code",
   "execution_count": null,
   "id": "f59e8565",
   "metadata": {},
   "outputs": [],
   "source": []
  }
 ],
 "metadata": {
  "kernelspec": {
   "display_name": "Python 3",
   "language": "python",
   "name": "python3"
  },
  "language_info": {
   "codemirror_mode": {
    "name": "ipython",
    "version": 3
   },
   "file_extension": ".py",
   "mimetype": "text/x-python",
   "name": "python",
   "nbconvert_exporter": "python",
   "pygments_lexer": "ipython3",
   "version": "3.8.8"
  }
 },
 "nbformat": 4,
 "nbformat_minor": 5
}
