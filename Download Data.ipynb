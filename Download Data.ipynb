{
 "cells": [
  {
   "cell_type": "code",
   "execution_count": 1,
   "id": "9c671a16",
   "metadata": {},
   "outputs": [],
   "source": [
    "import pandas as pd\n",
    "from pytube import YouTube\n",
    "import os\n",
    "from pathlib import Path\n",
    "from moviepy.video.io.ffmpeg_tools import ffmpeg_extract_subclip"
   ]
  },
  {
   "cell_type": "code",
   "execution_count": null,
   "id": "c21fd9ce",
   "metadata": {},
   "outputs": [],
   "source": [
    "df2 = pd.read_excel(\"../Dataset/Cricket NLP Version-1 Data Himanshu.xlsx\")"
   ]
  },
  {
   "cell_type": "code",
   "execution_count": 123,
   "id": "943a9ccf",
   "metadata": {},
   "outputs": [],
   "source": [
    "df1 = pd.read_excel(\"../Dataset/Cricket NLP Version-1 Data Mugdha.xlsx\")"
   ]
  },
  {
   "cell_type": "code",
   "execution_count": 2,
   "id": "c1ae2c22",
   "metadata": {},
   "outputs": [],
   "source": [
    "df3 = pd.read_excel(\"../Dataset/Batsman Data Mauj.xlsx\")"
   ]
  },
  {
   "cell_type": "code",
   "execution_count": 5,
   "id": "08547e6a",
   "metadata": {},
   "outputs": [],
   "source": [
    "df4 = pd.read_excel(\"../Dataset/Batsman Data Mauj 2.xlsx\")"
   ]
  },
  {
   "cell_type": "code",
   "execution_count": 6,
   "id": "4dcd4331",
   "metadata": {},
   "outputs": [
    {
     "data": {
      "text/html": [
       "<div>\n",
       "<style scoped>\n",
       "    .dataframe tbody tr th:only-of-type {\n",
       "        vertical-align: middle;\n",
       "    }\n",
       "\n",
       "    .dataframe tbody tr th {\n",
       "        vertical-align: top;\n",
       "    }\n",
       "\n",
       "    .dataframe thead th {\n",
       "        text-align: right;\n",
       "    }\n",
       "</style>\n",
       "<table border=\"1\" class=\"dataframe\">\n",
       "  <thead>\n",
       "    <tr style=\"text-align: right;\">\n",
       "      <th></th>\n",
       "      <th>Video ID</th>\n",
       "      <th>Start</th>\n",
       "      <th>End</th>\n",
       "      <th>Batting Style</th>\n",
       "      <th>Shot Style</th>\n",
       "    </tr>\n",
       "  </thead>\n",
       "  <tbody>\n",
       "    <tr>\n",
       "      <th>0</th>\n",
       "      <td>s8OJgjKlxnk</td>\n",
       "      <td>00:00:37</td>\n",
       "      <td>00:00:39</td>\n",
       "      <td>Left</td>\n",
       "      <td>Off</td>\n",
       "    </tr>\n",
       "    <tr>\n",
       "      <th>1</th>\n",
       "      <td>s8OJgjKlxnk</td>\n",
       "      <td>00:00:45</td>\n",
       "      <td>00:00:47</td>\n",
       "      <td>Left</td>\n",
       "      <td>Leg</td>\n",
       "    </tr>\n",
       "    <tr>\n",
       "      <th>2</th>\n",
       "      <td>s8OJgjKlxnk</td>\n",
       "      <td>00:00:59</td>\n",
       "      <td>00:01:01</td>\n",
       "      <td>Left</td>\n",
       "      <td>Leg</td>\n",
       "    </tr>\n",
       "    <tr>\n",
       "      <th>3</th>\n",
       "      <td>s8OJgjKlxnk</td>\n",
       "      <td>00:01:12</td>\n",
       "      <td>00:01:14</td>\n",
       "      <td>Right</td>\n",
       "      <td>Off</td>\n",
       "    </tr>\n",
       "    <tr>\n",
       "      <th>4</th>\n",
       "      <td>s8OJgjKlxnk</td>\n",
       "      <td>00:01:30</td>\n",
       "      <td>00:01:32</td>\n",
       "      <td>Left</td>\n",
       "      <td>Leg</td>\n",
       "    </tr>\n",
       "  </tbody>\n",
       "</table>\n",
       "</div>"
      ],
      "text/plain": [
       "      Video ID     Start       End Batting Style Shot Style\n",
       "0  s8OJgjKlxnk  00:00:37  00:00:39          Left        Off\n",
       "1  s8OJgjKlxnk  00:00:45  00:00:47          Left        Leg\n",
       "2  s8OJgjKlxnk  00:00:59  00:01:01          Left        Leg\n",
       "3  s8OJgjKlxnk  00:01:12  00:01:14         Right        Off\n",
       "4  s8OJgjKlxnk  00:01:30  00:01:32          Left        Leg"
      ]
     },
     "execution_count": 6,
     "metadata": {},
     "output_type": "execute_result"
    }
   ],
   "source": [
    "df4"
   ]
  },
  {
   "cell_type": "code",
   "execution_count": 37,
   "id": "88cd1aa5",
   "metadata": {},
   "outputs": [
    {
     "data": {
      "text/plain": [
       "https://www.youtube.com/watch?v=mN_B7aYhqb8     19\n",
       "https://www.youtube.com/watch?v=mN_B7aYhqb88     1\n",
       "                                                 1\n",
       "Name: Video Title, dtype: int64"
      ]
     },
     "execution_count": 37,
     "metadata": {},
     "output_type": "execute_result"
    }
   ],
   "source": [
    "df2[\"Video Title\"].value_counts()"
   ]
  },
  {
   "cell_type": "code",
   "execution_count": 38,
   "id": "38ce843a",
   "metadata": {},
   "outputs": [],
   "source": [
    "video_ids = [\"hNyvfsTSBM0\", \"8qXVwlm9eGQ\", \"mN_B7aYhqb8\"]"
   ]
  },
  {
   "cell_type": "code",
   "execution_count": 2,
   "id": "8e8773a4",
   "metadata": {},
   "outputs": [],
   "source": [
    "def download_yt(id_):\n",
    "    link = \"https://www.youtube.com/watch?v=\" + str(id_)\n",
    "    url = YouTube(link)\n",
    "    video = url.streams.get_highest_resolution()\n",
    "    video.download(\"../Dataset/\", filename=id_ + \".mp4\")"
   ]
  },
  {
   "cell_type": "code",
   "execution_count": 3,
   "id": "0ccb7322",
   "metadata": {},
   "outputs": [],
   "source": [
    "download_yt(\"yEESavCR2AE\")"
   ]
  },
  {
   "cell_type": "code",
   "execution_count": 40,
   "id": "dd2541f2",
   "metadata": {},
   "outputs": [
    {
     "name": "stdout",
     "output_type": "stream",
     "text": [
      "Starting: hNyvfsTSBM0\n",
      "Starting: 8qXVwlm9eGQ\n",
      "Starting: mN_B7aYhqb8\n"
     ]
    }
   ],
   "source": [
    "for id_ in video_ids:\n",
    "    print(\"Starting: \" + id_)\n",
    "    download_yt(id_)"
   ]
  },
  {
   "cell_type": "code",
   "execution_count": 132,
   "id": "088f5d03",
   "metadata": {},
   "outputs": [],
   "source": [
    "def hNyvfsTSBM0_change(val):\n",
    "    if (val[0: len(val)-1] == \"hNyvfsTSBM\"):\n",
    "        return \"hNyvfsTSBM0\"\n",
    "    return val\n",
    "\n",
    "df1[\"Video Title\"] = df1[\"Video Title\"].map(hNyvfsTSBM0_change)"
   ]
  },
  {
   "cell_type": "code",
   "execution_count": 56,
   "id": "d77b1b58",
   "metadata": {},
   "outputs": [],
   "source": [
    "def change_vid_title(val):\n",
    "    return \"mN_B7aYhqb8\"\n",
    "\n",
    "df2[\"Video Title\"] = df2[\"Video Title\"].map(change_vid_title)"
   ]
  },
  {
   "cell_type": "code",
   "execution_count": 92,
   "id": "83fe382f",
   "metadata": {},
   "outputs": [],
   "source": [
    "df = pd.merge(df1, df2, how=\"outer\")"
   ]
  },
  {
   "cell_type": "code",
   "execution_count": 83,
   "id": "9e39ac2a",
   "metadata": {},
   "outputs": [],
   "source": [
    "time = \"01:45:00\"\n",
    "\n",
    "time_lst = time.split(\":\")"
   ]
  },
  {
   "cell_type": "code",
   "execution_count": 84,
   "id": "ec23f247",
   "metadata": {},
   "outputs": [
    {
     "data": {
      "text/plain": [
       "105"
      ]
     },
     "execution_count": 84,
     "metadata": {},
     "output_type": "execute_result"
    }
   ],
   "source": [
    "seconds = int(time_lst[0]) * 60 + int(time_lst[1])  \n",
    "seconds"
   ]
  },
  {
   "cell_type": "code",
   "execution_count": 51,
   "id": "50e6f3fd",
   "metadata": {},
   "outputs": [
    {
     "data": {
      "text/plain": [
       "['hNyvfsTSBM0', '8qXVwlm9eGQ', 'mN_B7aYhqb8']"
      ]
     },
     "execution_count": 51,
     "metadata": {},
     "output_type": "execute_result"
    }
   ],
   "source": [
    "video_ids"
   ]
  },
  {
   "cell_type": "code",
   "execution_count": 7,
   "id": "729f29e5",
   "metadata": {},
   "outputs": [],
   "source": [
    "def get_seconds(str_):\n",
    "    str_ = str(str_)\n",
    "    time_lst = str_.split(\":\")\n",
    "    seconds = int(time_lst[1]) * 60 + int(time_lst[2])  \n",
    "    return seconds\n",
    "    \n",
    "def extract_subclip(video_loc, start, end, target):\n",
    "    ffmpeg_extract_subclip(video_loc, start, end, targetname=target)"
   ]
  },
  {
   "cell_type": "code",
   "execution_count": 20,
   "id": "d6df1473",
   "metadata": {},
   "outputs": [],
   "source": [
    "os.mkdir(\"../Dataset/AghhkPjJpVQ\")"
   ]
  },
  {
   "cell_type": "code",
   "execution_count": 9,
   "id": "54d07c94",
   "metadata": {},
   "outputs": [],
   "source": [
    "video_ids = [\"AghhkPjJpVQ\"]"
   ]
  },
  {
   "cell_type": "code",
   "execution_count": 26,
   "id": "8058afd8",
   "metadata": {},
   "outputs": [
    {
     "name": "stdout",
     "output_type": "stream",
     "text": [
      "Starting: AghhkPjJpVQ\n",
      "00:00:42\n",
      "00:00:45\n",
      "42\n",
      "45\n",
      "Moviepy - Running:\n",
      ">>> \"+ \" \".join(cmd)\n",
      "Moviepy - Command successful\n",
      "00:00:51\n",
      "00:00:54\n",
      "51\n",
      "54\n",
      "Moviepy - Running:\n",
      ">>> \"+ \" \".join(cmd)\n",
      "Moviepy - Command successful\n",
      "00:01:01\n",
      "00:01:04\n",
      "61\n",
      "64\n",
      "Moviepy - Running:\n",
      ">>> \"+ \" \".join(cmd)\n",
      "Moviepy - Command successful\n",
      "00:01:11\n",
      "00:01:13\n",
      "71\n",
      "73\n",
      "Moviepy - Running:\n",
      ">>> \"+ \" \".join(cmd)\n",
      "Moviepy - Command successful\n",
      "00:01:17\n",
      "00:01:19\n",
      "77\n",
      "79\n",
      "Moviepy - Running:\n",
      ">>> \"+ \" \".join(cmd)\n",
      "Moviepy - Command successful\n",
      "00:01:25\n",
      "00:01:27\n",
      "85\n",
      "87\n",
      "Moviepy - Running:\n",
      ">>> \"+ \" \".join(cmd)\n",
      "Moviepy - Command successful\n",
      "00:01:35\n",
      "00:01:37\n",
      "95\n",
      "97\n",
      "Moviepy - Running:\n",
      ">>> \"+ \" \".join(cmd)\n",
      "Moviepy - Command successful\n",
      "00:01:44\n",
      "00:01:47\n",
      "104\n",
      "107\n",
      "Moviepy - Running:\n",
      ">>> \"+ \" \".join(cmd)\n",
      "Moviepy - Command successful\n",
      "00:01:52\n",
      "00:01:55\n",
      "112\n",
      "115\n",
      "Moviepy - Running:\n",
      ">>> \"+ \" \".join(cmd)\n",
      "Moviepy - Command successful\n",
      "00:02:02\n",
      "00:02:05\n",
      "122\n",
      "125\n",
      "Moviepy - Running:\n",
      ">>> \"+ \" \".join(cmd)\n",
      "Moviepy - Command successful\n",
      "00:02:25\n",
      "00:02:27\n",
      "145\n",
      "147\n",
      "Moviepy - Running:\n",
      ">>> \"+ \" \".join(cmd)\n",
      "Moviepy - Command successful\n",
      "00:02:35\n",
      "00:02:38\n",
      "155\n",
      "158\n",
      "Moviepy - Running:\n",
      ">>> \"+ \" \".join(cmd)\n",
      "Moviepy - Command successful\n",
      "00:02:54\n",
      "00:02:56\n",
      "174\n",
      "176\n",
      "Moviepy - Running:\n",
      ">>> \"+ \" \".join(cmd)\n",
      "Moviepy - Command successful\n",
      "00:03:09\n",
      "00:03:12\n",
      "189\n",
      "192\n",
      "Moviepy - Running:\n",
      ">>> \"+ \" \".join(cmd)\n",
      "Moviepy - Command successful\n",
      "00:03:23\n",
      "00:03:27\n",
      "203\n",
      "207\n",
      "Moviepy - Running:\n",
      ">>> \"+ \" \".join(cmd)\n",
      "Moviepy - Command successful\n",
      "00:04:09\n",
      "00:04:12\n",
      "249\n",
      "252\n",
      "Moviepy - Running:\n",
      ">>> \"+ \" \".join(cmd)\n",
      "Moviepy - Command successful\n",
      "00:05:37\n",
      "00:05:39\n",
      "337\n",
      "339\n",
      "Moviepy - Running:\n",
      ">>> \"+ \" \".join(cmd)\n",
      "Moviepy - Command successful\n",
      "00:05:54\n",
      "00:05:56\n",
      "354\n",
      "356\n",
      "Moviepy - Running:\n",
      ">>> \"+ \" \".join(cmd)\n",
      "Moviepy - Command successful\n",
      "00:06:22\n",
      "00:06:24\n",
      "382\n",
      "384\n",
      "Moviepy - Running:\n",
      ">>> \"+ \" \".join(cmd)\n",
      "Moviepy - Command successful\n",
      "00:07:25\n",
      "00:07:27\n",
      "445\n",
      "447\n",
      "Moviepy - Running:\n",
      ">>> \"+ \" \".join(cmd)\n",
      "Moviepy - Command successful\n",
      "00:07:31\n",
      "00:07:33\n",
      "451\n",
      "453\n",
      "Moviepy - Running:\n",
      ">>> \"+ \" \".join(cmd)\n",
      "Moviepy - Command successful\n",
      "00:07:43\n",
      "00:07:46\n",
      "463\n",
      "466\n",
      "Moviepy - Running:\n",
      ">>> \"+ \" \".join(cmd)\n",
      "Moviepy - Command successful\n",
      "00:08:39\n",
      "00:08:41\n",
      "519\n",
      "521\n",
      "Moviepy - Running:\n",
      ">>> \"+ \" \".join(cmd)\n",
      "Moviepy - Command successful\n",
      "00:08:46\n",
      "00:08:48\n",
      "526\n",
      "528\n",
      "Moviepy - Running:\n",
      ">>> \"+ \" \".join(cmd)\n",
      "Moviepy - Command successful\n",
      "00:09:07\n",
      "00:09:09\n",
      "547\n",
      "549\n",
      "Moviepy - Running:\n",
      ">>> \"+ \" \".join(cmd)\n",
      "Moviepy - Command successful\n",
      "00:10:44\n",
      "00:10:47\n",
      "644\n",
      "647\n",
      "Moviepy - Running:\n",
      ">>> \"+ \" \".join(cmd)\n",
      "Moviepy - Command successful\n",
      "00:12:34\n",
      "00:12:37\n",
      "754\n",
      "757\n",
      "Moviepy - Running:\n",
      ">>> \"+ \" \".join(cmd)\n",
      "Moviepy - Command successful\n",
      "00:12:43\n",
      "00:12:46\n",
      "763\n",
      "766\n",
      "Moviepy - Running:\n",
      ">>> \"+ \" \".join(cmd)\n",
      "Moviepy - Command successful\n",
      "00:13:15\n",
      "00:13:18\n",
      "795\n",
      "798\n",
      "Moviepy - Running:\n",
      ">>> \"+ \" \".join(cmd)\n",
      "Moviepy - Command successful\n",
      "00:14:02\n",
      "00:14:05\n",
      "842\n",
      "845\n",
      "Moviepy - Running:\n",
      ">>> \"+ \" \".join(cmd)\n",
      "Moviepy - Command successful\n",
      "00:14:09\n",
      "00:14:12\n",
      "849\n",
      "852\n",
      "Moviepy - Running:\n",
      ">>> \"+ \" \".join(cmd)\n",
      "Moviepy - Command successful\n"
     ]
    }
   ],
   "source": [
    "for id_ in video_ids:\n",
    "    print(\"Starting: \" + id_)\n",
    "    video_loc = \"../Dataset/\" + id_ + \".mp4\"\n",
    "    id_start_lst = list(df3[df3[\"Video Id\"] == id_][\"Start\"])\n",
    "    id_end_lst = list(df3[df3[\"Video Id\"] == id_][\"End\"])\n",
    "    \n",
    "    for i in range(len(id_start_lst)):\n",
    "        start = str(id_start_lst[i])\n",
    "        end = str(id_end_lst[i])\n",
    "        print(start)\n",
    "        print(end)\n",
    "        start_seconds = get_seconds(start)\n",
    "        end_seconds = get_seconds(end)\n",
    "        \n",
    "        print(start_seconds)\n",
    "        print(end_seconds)\n",
    "        \n",
    "        \n",
    "        extract_subclip(video_loc, start_seconds, end_seconds, \"../Dataset/\" + id_ + \"/\" + str(start_seconds) + \"_\" + str(end_seconds) + \".mp4\")\n",
    "        "
   ]
  },
  {
   "cell_type": "code",
   "execution_count": null,
   "id": "215a546e",
   "metadata": {},
   "outputs": [],
   "source": []
  }
 ],
 "metadata": {
  "kernelspec": {
   "display_name": "Python 3",
   "language": "python",
   "name": "python3"
  },
  "language_info": {
   "codemirror_mode": {
    "name": "ipython",
    "version": 3
   },
   "file_extension": ".py",
   "mimetype": "text/x-python",
   "name": "python",
   "nbconvert_exporter": "python",
   "pygments_lexer": "ipython3",
   "version": "3.8.8"
  }
 },
 "nbformat": 4,
 "nbformat_minor": 5
}
